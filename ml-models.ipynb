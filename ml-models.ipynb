{
 "cells": [
  {
   "cell_type": "markdown",
   "metadata": {},
   "source": [
    "# Libraries"
   ]
  },
  {
   "cell_type": "code",
   "execution_count": 13,
   "metadata": {},
   "outputs": [],
   "source": [
    "import pandas as pd\n",
    "import numpy as np\n",
    "import time\n",
    "from tqdm import tqdm\n",
    "import matplotlib\n",
    "import matplotlib.pyplot as plt\n",
    "\n",
    "#libraries for preprocessing\n",
    "from sklearn import preprocessing\n",
    "\n",
    "#libraries for evaluation\n",
    "from sklearn.metrics import r2_score,mean_squared_error\n",
    "from sklearn.model_selection import train_test_split\n",
    "\n",
    "\n",
    "#libraries for models\n",
    "from sklearn.linear_model import LinearRegression\n",
    "from sklearn.preprocessing import PolynomialFeatures\n",
    "\n",
    "\n",
    "from sklearn.neighbors import KNeighborsRegressor\n",
    "\n",
    "from sklearn.ensemble import RandomForestRegressor\n",
    "\n",
    "from sklearn.ensemble import BaggingRegressor\n",
    "from sklearn.tree import DecisionTreeRegressor\n",
    "\n",
    "\n",
    "import warnings\n",
    "warnings.filterwarnings('ignore')"
   ]
  },
  {
   "cell_type": "code",
   "execution_count": null,
   "metadata": {},
   "outputs": [],
   "source": [
    "#Loading Dataframe\n",
    "\n",
    "#df=pd.read_csv(\"vehiclesFinal2.csv\")\n",
    "df=pd.read_csv(\"C:\\\\Users\\\\GTS\\\\Documents\\\\train.csv\")\n",
    "#df=df.drop('Unnamed: 0',axis=1)\n",
    "df=df.drop('id',axis=1)\n",
    "\n",
    "\n",
    "df2=df.copy()\n",
    "df.head()"
   ]
  },
  {
   "cell_type": "code",
   "execution_count": null,
   "metadata": {},
   "outputs": [],
   "source": [
    "df3=pd.read_csv(\"C:\\\\Users\\\\GTS\\\\Documents\\\\test.csv\")\n",
    "#df=df.drop('Unnamed: 0',axis=1)\n",
    "df4=df3.copy()\n",
    "df4.head()"
   ]
  },
  {
   "cell_type": "markdown",
   "metadata": {},
   "source": [
    "# 3) Model Implementation\n",
    "### 1)Polynomial Regression\n",
    "### 2)K-Neighbors Regressor\n",
    "### 3)Random Forest Regressor\n",
    "### 4)Bagging Regressor\n",
    "### 7)Adaboost Regressor"
   ]
  },
  {
   "cell_type": "markdown",
   "metadata": {},
   "source": [
    "## 3.1) Polynomial Regression"
   ]
  },
  {
   "cell_type": "code",
   "execution_count": null,
   "metadata": {},
   "outputs": [],
   "source": [
    "X = df.iloc[:,:-1]\n",
    "y = df.iloc[:,-1]\n",
    "    # Create PolynomialFeatures object\n",
    "poly_reg = PolynomialFeatures(degree=3)\n",
    "    # Transform the data into the specified degree\n",
    "X_poly = poly_reg.fit_transform(X)\n",
    "    \n",
    "    # Create LinearRegression model\n",
    "model = LinearRegression()\n",
    "X_poly=X_poly\n",
    "y=y.values\n",
    "X_train,X_test,y_train,y_test=train_test_split(X_poly,y,test_size=0.2,random_state=0)\n",
    "# Fit the model with the polynomial features\n",
    "    "
   ]
  },
  {
   "cell_type": "code",
   "execution_count": null,
   "metadata": {},
   "outputs": [],
   "source": [
    "\n",
    "from sklearn import metrics\n",
    "model.fit(X_train, y_train)\n",
    "    # Predict the values\n",
    "y_pred = model.predict(X_test)\n",
    "    \n",
    "    # Plot on the corresponding subplot\n",
    "    \n",
    "score=metrics.r2_score(y_test,y_pred)\n",
    "print(\"Degree=\",3,\",\",\"Score=\",format(score, '.4f'))"
   ]
  },
  {
   "cell_type": "code",
   "execution_count": null,
   "metadata": {},
   "outputs": [],
   "source": [
    "y_pred2 = model.predict(X_train)\n",
    "score=metrics.r2_score(y_train,y_pred2)\n",
    "score"
   ]
  },
  {
   "cell_type": "markdown",
   "metadata": {},
   "source": [
    "## 3.2) KNN"
   ]
  },
  {
   "cell_type": "code",
   "execution_count": null,
   "metadata": {},
   "outputs": [],
   "source": [
    "# Find the value for K\n",
    "\n",
    "error1=[]\n",
    "error2=[]\n",
    "K=[1,2,3,4,5,6,7,8,9,10,20,50,100]\n",
    "for i in K:\n",
    "    KNN=KNeighborsRegressor(n_neighbors=i)\n",
    "    KNN.fit(X_train,y_train)\n",
    "    y_pred2=KNN.predict(X_train)\n",
    "    y_pred=KNN.predict(X_test)\n",
    "    error_s=np.sqrt(mean_squared_error(y_test, y_pred))\n",
    "    error_t=np.sqrt(mean_squared_error(y_train, y_pred2))\n",
    "    error1.append(error_t)\n",
    "    error2.append(error_s)\n",
    "    print(\"Train when\",\"K =\",i,\" , Root MSE =\",error_t)\n",
    "    print(\"Test when\",\"K =\",i,\" , Root MSE =\",error_s)"
   ]
  },
  {
   "cell_type": "code",
   "execution_count": null,
   "metadata": {},
   "outputs": [],
   "source": [
    "#plotting error\n",
    "\n",
    "plt.plot(range(1,10),error1,label=\"train\")\n",
    "plt.plot(range(1,10),error2,label=\"test\")\n",
    "plt.xlabel('k Value')\n",
    "plt.ylabel('Error')\n",
    "plt.legend()"
   ]
  },
  {
   "cell_type": "code",
   "execution_count": null,
   "metadata": {},
   "outputs": [],
   "source": [
    "#model implementation\n",
    "KNN=KNeighborsRegressor(n_neighbors=2) \n",
    "KNN.fit(X_train,y_train)\n",
    "y_pred2=KNN.predict(X_test)\n",
    "y_pred=KNN.predict(X_train)"
   ]
  },
  {
   "cell_type": "code",
   "execution_count": null,
   "metadata": {},
   "outputs": [],
   "source": [
    "#model evaluation\n",
    "\n",
    "print(metrics.r2_score(y_train,y_pred))\n",
    "print(metrics.r2_score(y_test,y_pred2))"
   ]
  },
  {
   "cell_type": "markdown",
   "metadata": {},
   "source": [
    "### 3.3) Random Forest"
   ]
  },
  {
   "cell_type": "code",
   "execution_count": null,
   "metadata": {
    "scrolled": true
   },
   "outputs": [],
   "source": [
    "RFR = RandomForestRegressor(n_estimators=50,random_state=0, min_samples_leaf=10,max_depth=20)\n",
    "RFR.fit(X_train,y_train)\n",
    "y_pred2 = RFR.predict(X_test)\n",
    "y_pred = RFR.predict(X_train)"
   ]
  },
  {
   "cell_type": "code",
   "execution_count": null,
   "metadata": {},
   "outputs": [],
   "source": [
    "print(metrics.r2_score(y_train,y_pred))\n",
    "print(metrics.r2_score(y_test,y_pred2))"
   ]
  },
  {
   "cell_type": "code",
   "execution_count": null,
   "metadata": {},
   "outputs": [],
   "source": [
    "importances=RFR.feature_importances_\n",
    "features=X_train.columns\n",
    "\n",
    "# Set the style\n",
    "plt.style.use('fivethirtyeight')\n",
    "# list of x locations for plotting\n",
    "x_values = list(range(len(importances)))\n",
    "# Make a bar chart\n",
    "plt.figure(figsize=(6,6))\n",
    "plt.bar(x_values, importances, orientation = ('vertical'))\n",
    "# Tick labels for x axis\n",
    "plt.xticks(x_values, features, rotation=(90))\n",
    "# Axis labels and title\n",
    "plt.ylabel('Importance'); \n",
    "plt.xlabel('Variable/Features'); \n",
    "plt.title('Random Forest Variables Importance')\n",
    "plt.tight_layout()\n",
    "plt.savefig('Random-Forest-Variables-Importances.jpg',dpi=600)\n",
    "plt.show();"
   ]
  },
  {
   "cell_type": "markdown",
   "metadata": {},
   "source": [
    "### 3.4) Bagging Regressor"
   ]
  },
  {
   "cell_type": "code",
   "execution_count": null,
   "metadata": {},
   "outputs": [],
   "source": [
    "#model implementation\n",
    "baggReg=BaggingRegressor(base_estimator=DecisionTreeRegressor(max_depth=20),n_estimators=50, random_state=1,\n",
    "                         max_samples=1.0, max_features=1.0)\n",
    "baggReg.fit(X_train,y_train)\n",
    "y_pred=baggReg.predict(X_train)\n",
    "y_pred2=baggReg.predict(X_test)"
   ]
  },
  {
   "cell_type": "code",
   "execution_count": null,
   "metadata": {},
   "outputs": [],
   "source": [
    "#model evaluation\n",
    "print(metrics.r2_score(y_train,y_pred))\n",
    "print(metrics.r2_score(y_test,y_pred2))"
   ]
  },
  {
   "cell_type": "code",
   "execution_count": 14,
   "metadata": {},
   "outputs": [
    {
     "name": "stdout",
     "output_type": "stream",
     "text": [
      "Successfully converted 'C:\\Users\\GTS\\Desktop\\AI Fatima\\Competitions\\Used Car Price Prediction\\rfr.xlsx' to 'C:\\Users\\GTS\\Desktop\\AI Fatima\\Competitions\\Used Car Price Prediction\\rfr.csv'.\n"
     ]
    }
   ],
   "source": [
    "# Replace 'input_file.xlsx' with the path to your Excel file\n",
    "input_file = r'C:\\Users\\GTS\\Desktop\\AI Fatima\\Competitions\\Used Car Price Prediction\\rfr.xlsx'\n",
    "output_file = r'C:\\Users\\GTS\\Desktop\\AI Fatima\\Competitions\\Used Car Price Prediction\\rfr.csv'\n",
    "\n",
    "\n",
    "# Read the Excel file\n",
    "df = pd.read_excel(input_file, engine='openpyxl')\n",
    "\n",
    "# Write the DataFrame to a CSV file\n",
    "df.to_csv(output_file, index=False)\n",
    "\n",
    "print(f\"Successfully converted '{input_file}' to '{output_file}'.\")\n"
   ]
  },
  {
   "cell_type": "markdown",
   "metadata": {},
   "source": [
    "# Overall Result"
   ]
  },
  {
   "cell_type": "code",
   "execution_count": 15,
   "metadata": {},
   "outputs": [
    {
     "data": {
      "text/html": [
       "<div>\n",
       "<style scoped>\n",
       "    .dataframe tbody tr th:only-of-type {\n",
       "        vertical-align: middle;\n",
       "    }\n",
       "\n",
       "    .dataframe tbody tr th {\n",
       "        vertical-align: top;\n",
       "    }\n",
       "\n",
       "    .dataframe thead th {\n",
       "        text-align: right;\n",
       "    }\n",
       "</style>\n",
       "<table border=\"1\" class=\"dataframe\">\n",
       "  <thead>\n",
       "    <tr style=\"text-align: right;\">\n",
       "      <th></th>\n",
       "      <th>1</th>\n",
       "      <th>2</th>\n",
       "      <th>3</th>\n",
       "      <th>4</th>\n",
       "      <th>5</th>\n",
       "      <th>6</th>\n",
       "      <th>7</th>\n",
       "      <th>8</th>\n",
       "      <th>9</th>\n",
       "      <th>10</th>\n",
       "      <th>11</th>\n",
       "      <th>12</th>\n",
       "      <th>13</th>\n",
       "      <th>14</th>\n",
       "      <th>15</th>\n",
       "      <th>16</th>\n",
       "      <th>17</th>\n",
       "      <th>18</th>\n",
       "      <th>19</th>\n",
       "      <th>20</th>\n",
       "    </tr>\n",
       "    <tr>\n",
       "      <th>Unnamed: 0</th>\n",
       "      <th></th>\n",
       "      <th></th>\n",
       "      <th></th>\n",
       "      <th></th>\n",
       "      <th></th>\n",
       "      <th></th>\n",
       "      <th></th>\n",
       "      <th></th>\n",
       "      <th></th>\n",
       "      <th></th>\n",
       "      <th></th>\n",
       "      <th></th>\n",
       "      <th></th>\n",
       "      <th></th>\n",
       "      <th></th>\n",
       "      <th></th>\n",
       "      <th></th>\n",
       "      <th></th>\n",
       "      <th></th>\n",
       "      <th></th>\n",
       "    </tr>\n",
       "  </thead>\n",
       "  <tbody>\n",
       "    <tr>\n",
       "      <th>RFR train</th>\n",
       "      <td>0.889</td>\n",
       "      <td>0.904</td>\n",
       "      <td>0.9058</td>\n",
       "      <td>0.9072</td>\n",
       "      <td>0.5503</td>\n",
       "      <td>0.7832</td>\n",
       "      <td>0.781</td>\n",
       "      <td>0.940</td>\n",
       "      <td>0.950</td>\n",
       "      <td>0.8</td>\n",
       "      <td>0.75</td>\n",
       "      <td>0.711</td>\n",
       "      <td>0.6717</td>\n",
       "      <td>0.604</td>\n",
       "      <td>0.632</td>\n",
       "      <td>0.66</td>\n",
       "      <td>0.66</td>\n",
       "      <td>0.66</td>\n",
       "      <td>0.67</td>\n",
       "      <td>0.66</td>\n",
       "    </tr>\n",
       "    <tr>\n",
       "      <th>RFR test</th>\n",
       "      <td>0.700</td>\n",
       "      <td>0.729</td>\n",
       "      <td>0.7290</td>\n",
       "      <td>0.7290</td>\n",
       "      <td>0.5500</td>\n",
       "      <td>0.6675</td>\n",
       "      <td>0.667</td>\n",
       "      <td>0.739</td>\n",
       "      <td>0.744</td>\n",
       "      <td>0.7</td>\n",
       "      <td>0.68</td>\n",
       "      <td>0.675</td>\n",
       "      <td>0.6598</td>\n",
       "      <td>0.625</td>\n",
       "      <td>0.644</td>\n",
       "      <td>0.67</td>\n",
       "      <td>0.67</td>\n",
       "      <td>0.67</td>\n",
       "      <td>0.65</td>\n",
       "      <td>0.67</td>\n",
       "    </tr>\n",
       "  </tbody>\n",
       "</table>\n",
       "</div>"
      ],
      "text/plain": [
       "                1      2       3       4       5       6      7      8      9   \n",
       "Unnamed: 0                                                                      \n",
       "RFR train   0.889  0.904  0.9058  0.9072  0.5503  0.7832  0.781  0.940  0.950  \\\n",
       "RFR test    0.700  0.729  0.7290  0.7290  0.5500  0.6675  0.667  0.739  0.744   \n",
       "\n",
       "             10    11     12      13     14     15    16    17    18    19   \n",
       "Unnamed: 0                                                                   \n",
       "RFR train   0.8  0.75  0.711  0.6717  0.604  0.632  0.66  0.66  0.66  0.67  \\\n",
       "RFR test    0.7  0.68  0.675  0.6598  0.625  0.644  0.67  0.67  0.67  0.65   \n",
       "\n",
       "              20  \n",
       "Unnamed: 0        \n",
       "RFR train   0.66  \n",
       "RFR test    0.67  "
      ]
     },
     "execution_count": 15,
     "metadata": {},
     "output_type": "execute_result"
    }
   ],
   "source": [
    "\n",
    "r2_score=pd.read_csv('C:\\\\Users\\\\GTS\\\\Desktop\\\\AI Fatima\\\\Competitions\\\\Used Car Price Prediction\\\\rfr.csv',index_col=0)\n",
    "r2_score"
   ]
  },
  {
   "cell_type": "code",
   "execution_count": 17,
   "metadata": {},
   "outputs": [],
   "source": [
    "train_score=r2_score.loc['RFR train']\n",
    "test_score=r2_score.loc['RFR test']"
   ]
  },
  {
   "cell_type": "code",
   "execution_count": 22,
   "metadata": {},
   "outputs": [
    {
     "data": {
      "image/png": "[encoded data removed]",
      "text/plain": [
       "<Figure size 1000x400 with 1 Axes>"
      ]
     },
     "metadata": {},
     "output_type": "display_data"
    }
   ],
   "source": [
    "\n",
    "\n",
    "# Assuming you have the train and test scores in separate variables\n",
    "#train_score=r2_score.loc['r2_score train']\n",
    "#test_score=r2_score.loc['r2_score test']\n",
    "\n",
    "import matplotlib.pyplot as plt\n",
    "\n",
    "\n",
    "# Create a list of model names as labels\n",
    "#models = ['poly', 'RF', 'Bagging DT', 'KNN','Extra RF','GXBoost']  # Replace with your model names list\n",
    "models=['1','2','3','4','5','6','7','8','9','10','11','12','13','14','15','16','17','18','19','20']\n",
    "# Set the style\n",
    "plt.style.use('fivethirtyeight')\n",
    "\n",
    "# Create the figure and axis objects\n",
    "plt.figure(figsize=(10, 4))\n",
    "\n",
    "# Plot the train scores\n",
    "plt.plot(models, train_score, marker='o', label='Train Scores', color='green')\n",
    "\n",
    "# Plot the test scores\n",
    "plt.plot(models, test_score, marker='o', label='Test Scores', color='blue')\n",
    "\n",
    "# Set the y-axis ticks to go from 0 to 1.0 in increments of 0.1 (assuming your scores are between 0 and 1)\n",
    "y_ticks = [0.1 * i for i in range(11)]\n",
    "plt.yticks(y_ticks)\n",
    "\n",
    "# Set font size and rotation for x-axis labels\n",
    "plt.xticks(fontsize=12, rotation=0)\n",
    "\n",
    "# Set the x and y-axis labels and title\n",
    "plt.xlabel(\"Models\", fontsize=15)\n",
    "plt.ylabel(\"R2 Score\", fontsize=15)\n",
    "plt.title(\"Train and Test R2 Scores\")\n",
    "\n",
    "# Show the legend\n",
    "plt.legend()\n",
    "\n",
    "\n",
    "# Show the plot\n",
    "plt.show()\n"
   ]
  },
  {
   "cell_type": "code",
   "execution_count": null,
   "metadata": {},
   "outputs": [],
   "source": []
  }
 ],
 "metadata": {
  "kernelspec": {
   "display_name": "Python 3 (ipykernel)",
   "language": "python",
   "name": "python3"
  },
  "language_info": {
   "codemirror_mode": {
    "name": "ipython",
    "version": 3
   },
   "file_extension": ".py",
   "mimetype": "text/x-python",
   "name": "python",
   "nbconvert_exporter": "python",
   "pygments_lexer": "ipython3",
   "version": "3.9.13"
  }
 },
 "nbformat": 4,
 "nbformat_minor": 4
}
