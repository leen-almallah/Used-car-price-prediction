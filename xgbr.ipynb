{
  "cells": [
    {
      "cell_type": "code",
      "source": [
        "import pandas as pd\n",
        "import numpy as np\n",
        "import seaborn as sns\n",
        "import matplotlib.pyplot as plt\n",
        "import plotly.express as px\n",
        "import pickle\n",
        "import time\n",
        "from sklearn.model_selection import train_test_split, RandomizedSearchCV, GridSearchCV\n",
        "from sklearn.metrics import mean_squared_error, mean_absolute_error, r2_score\n",
        "from xgboost.sklearn import XGBRegressor\n",
        "from google.colab import drive\n",
        "drive.mount('/content/drive')"
      ],
      "metadata": {
        "id": "Giz2FCMjmcEt"
      },
      "id": "Giz2FCMjmcEt",
      "execution_count": null,
      "outputs": []
    },
    {
      "cell_type": "code",
      "source": [
        "test=pd.read_csv('/content/drive/MyDrive/data/test_modified.csv')\n",
        "train=pd.read_csv('/content/drive/MyDrive/data/train_modified.csv')"
      ],
      "metadata": {
        "id": "ABOG3EW3nX1C"
      },
      "id": "ABOG3EW3nX1C",
      "execution_count": null,
      "outputs": []
    },
    {
      "cell_type": "markdown",
      "source": [
        "## Splitting the data"
      ],
      "metadata": {
        "id": "RXKGMJ3knfv9"
      },
      "id": "RXKGMJ3knfv9"
    },
    {
      "cell_type": "code",
      "source": [
        "# Split the train data into features (X) and target variable (y)\n",
        "X = train.drop(columns=['price'])\n",
        "y = train['price']\n",
        "\n",
        "# Split the train data into train and test sets for model evaluation\n",
        "X_train, X_test, y_train, y_test = train_test_split(X, y, test_size=0.2, random_state=42)"
      ],
      "metadata": {
        "id": "nGl4nRrJnp42"
      },
      "id": "nGl4nRrJnp42",
      "execution_count": null,
      "outputs": []
    },
    {
      "cell_type": "markdown",
      "id": "b92777c2",
      "metadata": {
        "id": "b92777c2"
      },
      "source": [
        "### 4. XGBoost Regressor"
      ]
    },
    {
      "cell_type": "code",
      "source": [
        "# Initialize the XGBoost Regressor\n",
        "xgbr = XGBRegressor(n_estimators=500, max_depth=10, subsample=0.5)\n",
        "\n",
        "# Train the model\n",
        "start = time.time()\n",
        "xgbr.fit(X_train, y_train)\n",
        "training_duration = time.time() - start\n",
        "print('Training Duration in minutes: ', round(training_duration / 60, 2))\n",
        "\n",
        "# Make predictions on the test set and training set\n",
        "y_pred_xgbr = xgbr.predict(X_test)\n",
        "y_pred_xgbr_train = xgbr.predict(X_train)\n",
        "\n",
        "# Evaluate the model\n",
        "print('XGB Regressor Train MAE: ', round(mean_absolute_error(y_train, y_pred_xgbr_train), 2))\n",
        "print('XGB Regressor Test MAE: ', round(mean_absolute_error(y_test, y_pred_xgbr), 2))\n",
        "print('XGB Regressor Train RMSE: ', round(np.sqrt(mean_squared_error(y_train, y_pred_xgbr_train)), 2))\n",
        "print('XGB Regressor Test RMSE: ', round(np.sqrt(mean_squared_error(y_test, y_pred_xgbr)), 2))\n",
        "print('XGB Regressor Train R2: ', round(xgbr.score(X_train, y_train), 4)*100)\n",
        "print('XGB Regressor Test R2: ', round(r2_score(y_test, y_pred_xgbr), 4)*100)\n",
        "\n",
        "# Visualize the model fit\n",
        "plt.figure(figsize=(10,6))\n",
        "plt.title('XGBoost Regressor Model Fit', fontsize=14)\n",
        "plt.scatter(x=y_test, y=y_pred_xgbr)\n",
        "m, b = np.polyfit(y_test, y_pred_xgbr, 1)\n",
        "plt.plot(y_test, m*y_test+b, 'r')\n",
        "plt.show()\n"
      ],
      "metadata": {
        "id": "cSxDs9uCvRtP"
      },
      "id": "cSxDs9uCvRtP",
      "execution_count": 2,
      "outputs": []
    },
    {
      "cell_type": "code",
      "source": [
        "# Prepare Kaggle's test data\n",
        "X_test_kaggle = test\n",
        "\n",
        "# Make predictions on Kaggle's test data\n",
        "y_pred_kaggle = xgbr.predict(X_test_kaggle)\n",
        "\n",
        "# Create a DataFrame with 'id' and predicted 'price'\n",
        "submission_df = pd.DataFrame({'id': X_test_kaggle['id'], 'price': y_pred_kaggle})\n",
        "\n",
        "# Save the submission DataFrame to a CSV file\n",
        "file_path = 'submission_xgbr.csv'\n",
        "submission_df.to_csv(file_path, index=False)\n",
        "\n",
        "# Optionally, you can print the first few rows of the DataFrame to verify the content\n",
        "print(submission_df.head())\n",
        "\n",
        "from google.colab import files\n",
        "files.download(file_path)"
      ],
      "metadata": {
        "colab": {
          "base_uri": "https://localhost:8080/"
        },
        "id": "RS7PgOVfxUkK",
        "outputId": "0a508a35-d925-4779-a398-e4fd69ad8ffd"
      },
      "id": "RS7PgOVfxUkK",
      "execution_count": null,
      "outputs": [
        {
          "output_type": "stream",
          "name": "stdout",
          "text": [
            "           id         price\n",
            "0  7313399730   2491.912598\n",
            "1  7308035814  25524.611328\n",
            "2  7317063645   2154.993164\n",
            "3  7310376764  36742.789062\n",
            "4  7309848062  20734.654297\n"
          ]
        },
        {
          "output_type": "display_data",
          "data": {
            "text/plain": [
              "<IPython.core.display.Javascript object>"
            ],
            "application/javascript": [
              "\n",
              "    async function download(id, filename, size) {\n",
              "      if (!google.colab.kernel.accessAllowed) {\n",
              "        return;\n",
              "      }\n",
              "      const div = document.createElement('div');\n",
              "      const label = document.createElement('label');\n",
              "      label.textContent = `Downloading \"${filename}\": `;\n",
              "      div.appendChild(label);\n",
              "      const progress = document.createElement('progress');\n",
              "      progress.max = size;\n",
              "      div.appendChild(progress);\n",
              "      document.body.appendChild(div);\n",
              "\n",
              "      const buffers = [];\n",
              "      let downloaded = 0;\n",
              "\n",
              "      const channel = await google.colab.kernel.comms.open(id);\n",
              "      // Send a message to notify the kernel that we're ready.\n",
              "      channel.send({})\n",
              "\n",
              "      for await (const message of channel.messages) {\n",
              "        // Send a message to notify the kernel that we're ready.\n",
              "        channel.send({})\n",
              "        if (message.buffers) {\n",
              "          for (const buffer of message.buffers) {\n",
              "            buffers.push(buffer);\n",
              "            downloaded += buffer.byteLength;\n",
              "            progress.value = downloaded;\n",
              "          }\n",
              "        }\n",
              "      }\n",
              "      const blob = new Blob(buffers, {type: 'application/binary'});\n",
              "      const a = document.createElement('a');\n",
              "      a.href = window.URL.createObjectURL(blob);\n",
              "      a.download = filename;\n",
              "      div.appendChild(a);\n",
              "      a.click();\n",
              "      div.remove();\n",
              "    }\n",
              "  "
            ]
          },
          "metadata": {}
        },
        {
          "output_type": "display_data",
          "data": {
            "text/plain": [
              "<IPython.core.display.Javascript object>"
            ],
            "application/javascript": [
              "download(\"download_42c16b40-c819-4d63-96f9-e1fa61be3e74\", \"submission_xgbr.csv\", 2570092)"
            ]
          },
          "metadata": {}
        }
      ]
    },
    {
      "cell_type": "markdown",
      "id": "374ae3e8",
      "metadata": {
        "id": "374ae3e8"
      },
      "source": [
        "## 6. Hyperparameter tuning"
      ]
    },
    {
      "cell_type": "code",
      "execution_count": null,
      "id": "37fe0879",
      "metadata": {
        "scrolled": false,
        "id": "37fe0879",
        "outputId": "06bad0a3-329b-4d0c-e7b4-ea4057795dbd",
        "colab": {
          "base_uri": "https://localhost:8080/"
        }
      },
      "outputs": [
        {
          "output_type": "execute_result",
          "data": {
            "text/plain": [
              "{'objective': 'reg:squarederror',\n",
              " 'base_score': None,\n",
              " 'booster': None,\n",
              " 'callbacks': None,\n",
              " 'colsample_bylevel': None,\n",
              " 'colsample_bynode': None,\n",
              " 'colsample_bytree': None,\n",
              " 'early_stopping_rounds': None,\n",
              " 'enable_categorical': False,\n",
              " 'eval_metric': None,\n",
              " 'feature_types': None,\n",
              " 'gamma': None,\n",
              " 'gpu_id': None,\n",
              " 'grow_policy': None,\n",
              " 'importance_type': None,\n",
              " 'interaction_constraints': None,\n",
              " 'learning_rate': None,\n",
              " 'max_bin': None,\n",
              " 'max_cat_threshold': None,\n",
              " 'max_cat_to_onehot': None,\n",
              " 'max_delta_step': None,\n",
              " 'max_depth': 10,\n",
              " 'max_leaves': None,\n",
              " 'min_child_weight': None,\n",
              " 'missing': nan,\n",
              " 'monotone_constraints': None,\n",
              " 'n_estimators': 500,\n",
              " 'n_jobs': None,\n",
              " 'num_parallel_tree': None,\n",
              " 'predictor': None,\n",
              " 'random_state': None,\n",
              " 'reg_alpha': None,\n",
              " 'reg_lambda': None,\n",
              " 'sampling_method': None,\n",
              " 'scale_pos_weight': None,\n",
              " 'subsample': 0.5,\n",
              " 'tree_method': None,\n",
              " 'validate_parameters': None,\n",
              " 'verbosity': None}"
            ]
          },
          "metadata": {},
          "execution_count": 55
        }
      ],
      "source": [
        "xgbr.get_params()"
      ]
    },
    {
      "cell_type": "markdown",
      "id": "c8393f93",
      "metadata": {
        "id": "c8393f93"
      },
      "source": [
        "The baseline XGBoost regressor was overfitting, we will be focusing on hyperparamters that help reduce it. The hyperparameters to be tried for the XGBoost are:\n",
        "\n",
        "* n_estimators: the number of trees. I will be trying out different number of trees between 50 and 1000.\n",
        "* learning_rate: the boosting learning rate. Will be trying out different learning rates between 0.01 and 1.\n",
        "* max_depth: maximum tree depth. Will be trying values between 3 and 10.\n",
        "* min_child_weight: the minimum sum of instance weight needed in a leaf. Larger values should help reduce overfitting. Will be trying out numbers between 0 and 10.\n",
        "* sub_sample: the ratio of training rows used. Lower values should help reduce overfitting. Will be trying out values between 0 and 1."
      ]
    },
    {
      "cell_type": "code",
      "execution_count": null,
      "id": "d27017ee",
      "metadata": {
        "id": "d27017ee",
        "outputId": "02afd79c-2daf-451b-c4ed-35f6a0a0656b",
        "colab": {
          "base_uri": "https://localhost:8080/",
          "height": 667
        }
      },
      "outputs": [
        {
          "output_type": "stream",
          "name": "stdout",
          "text": [
            "Training Duration in minutes:  81.2\n",
            "Tuned XGBoost Regressor Train MAE:  4877.57\n",
            "Tuned XGBoost Regressor Test MAE:  5465.33\n",
            "Tuned XGBoost Regressor Train RMSE:  7985.98\n",
            "Tuned XGBoost Regressor Test RMSE:  9296.98\n",
            "Tuned XGBoost Regressor Train R2:  76.41\n",
            "Tuned XGBoost Regressor Test R2:  63.970000000000006\n"
          ]
        },
        {
          "output_type": "display_data",
          "data": {
            "text/plain": [
              "<Figure size 1000x600 with 1 Axes>"
            ],
            "image/png": "[encoded data removed]"
          },
          "metadata": {}
        }
      ],
      "source": [
        "xgbr_params = {'n_estimators':[50,100,200,500,700,1000],\n",
        "               'learning_rate':[0.01,0.1,0.2,0.5,0.7,1],\n",
        "               'max_depth':[3,5,7,10],\n",
        "               'min_child_weight':[0,1,5,10],\n",
        "               'subsample':[0,0.2,0.5,0.7,1]}\n",
        "\n",
        "start = time.time()\n",
        "\n",
        "xgbr_rscv = RandomizedSearchCV(xgbr, xgbr_params, cv = 3, n_iter=20, n_jobs=-1)\n",
        "xgbr_rscv.fit(X_train,y_train)\n",
        "\n",
        "training_duration = time.time() - start\n",
        "print('Training Duration in minutes: ', round(training_duration / 60, 2))\n",
        "\n",
        "best_xgbr_model = xgbr_rscv.best_estimator_\n",
        "\n",
        "y_pred_xgbr_tuned = best_xgbr_model.predict(X_test)\n",
        "y_pred_xgbr_tuned_train = best_xgbr_model.predict(X_train)\n",
        "\n",
        "print('Tuned XGBoost Regressor Train MAE: ', round(mean_absolute_error(y_train, y_pred_xgbr_tuned_train), 2))\n",
        "print('Tuned XGBoost Regressor Test MAE: ', round(mean_absolute_error(y_test, y_pred_xgbr_tuned), 2))\n",
        "print('Tuned XGBoost Regressor Train RMSE: ', round(np.sqrt(mean_squared_error(y_train, y_pred_xgbr_tuned_train)), 2))\n",
        "print('Tuned XGBoost Regressor Test RMSE: ', round(np.sqrt(mean_squared_error(y_test, y_pred_xgbr_tuned)), 2))\n",
        "print('Tuned XGBoost Regressor Train R2: ', round(best_xgbr_model.score(X_train, y_train), 4)*100)\n",
        "print('Tuned XGBoost Regressor Test R2: ', round(r2_score(y_test, y_pred_xgbr_tuned), 4)*100)\n",
        "\n",
        "plt.figure(figsize=(10,6))\n",
        "plt.title('Tuned XGBoost Regressor Model Fit', fontsize=14)\n",
        "plt.scatter(x=y_test, y=y_pred_xgbr_tuned)\n",
        "m, b = np.polyfit(y_test, y_pred_xgbr_tuned, 1)\n",
        "plt.plot(y_test, m*y_test+b, 'r');"
      ]
    },
    {
      "cell_type": "markdown",
      "id": "9caf2ea9",
      "metadata": {
        "id": "9caf2ea9"
      },
      "source": [
        "We see lower errors in comparison to the baseline XGBoost, but the overfitting has slightly increased."
      ]
    },
    {
      "cell_type": "code",
      "execution_count": null,
      "id": "1d2d3888",
      "metadata": {
        "scrolled": false,
        "id": "1d2d3888",
        "outputId": "94f602a1-8213-47ad-bd5f-c63feb157f25",
        "colab": {
          "base_uri": "https://localhost:8080/"
        }
      },
      "outputs": [
        {
          "output_type": "execute_result",
          "data": {
            "text/plain": [
              "{'objective': 'reg:squarederror',\n",
              " 'base_score': None,\n",
              " 'booster': None,\n",
              " 'callbacks': None,\n",
              " 'colsample_bylevel': None,\n",
              " 'colsample_bynode': None,\n",
              " 'colsample_bytree': None,\n",
              " 'early_stopping_rounds': None,\n",
              " 'enable_categorical': False,\n",
              " 'eval_metric': None,\n",
              " 'feature_types': None,\n",
              " 'gamma': None,\n",
              " 'gpu_id': None,\n",
              " 'grow_policy': None,\n",
              " 'importance_type': None,\n",
              " 'interaction_constraints': None,\n",
              " 'learning_rate': 0.5,\n",
              " 'max_bin': None,\n",
              " 'max_cat_threshold': None,\n",
              " 'max_cat_to_onehot': None,\n",
              " 'max_delta_step': None,\n",
              " 'max_depth': 7,\n",
              " 'max_leaves': None,\n",
              " 'min_child_weight': 1,\n",
              " 'missing': nan,\n",
              " 'monotone_constraints': None,\n",
              " 'n_estimators': 100,\n",
              " 'n_jobs': None,\n",
              " 'num_parallel_tree': None,\n",
              " 'predictor': None,\n",
              " 'random_state': None,\n",
              " 'reg_alpha': None,\n",
              " 'reg_lambda': None,\n",
              " 'sampling_method': None,\n",
              " 'scale_pos_weight': None,\n",
              " 'subsample': 1,\n",
              " 'tree_method': None,\n",
              " 'validate_parameters': None,\n",
              " 'verbosity': None}"
            ]
          },
          "metadata": {},
          "execution_count": 58
        }
      ],
      "source": [
        "best_xgbr_model.get_params()"
      ]
    },
    {
      "cell_type": "code",
      "source": [
        "# Prepare Kaggle's test data\n",
        "X_test_kaggle = test\n",
        "\n",
        "# Make predictions on Kaggle's test data\n",
        "y_pred_kaggle = xgbr_rscv.predict(X_test_kaggle)\n",
        "\n",
        "# Create a DataFrame with 'id' and predicted 'price'\n",
        "submission_df = pd.DataFrame({'id': X_test_kaggle['id'], 'price': y_pred_kaggle})\n",
        "\n",
        "# Save the submission DataFrame to a CSV file\n",
        "file_path = 'submission_xgbr_rscv.csv'\n",
        "submission_df.to_csv(file_path, index=False)\n",
        "\n",
        "# Optionally, you can print the first few rows of the DataFrame to verify the content\n",
        "print(submission_df.head())\n",
        "\n",
        "from google.colab import files\n",
        "files.download(file_path)"
      ],
      "metadata": {
        "colab": {
          "base_uri": "https://localhost:8080/",
          "height": 121
        },
        "id": "MTVl0Bjn76rI",
        "outputId": "428ee98f-d5f4-458f-bda4-d8244322d9b2"
      },
      "id": "MTVl0Bjn76rI",
      "execution_count": null,
      "outputs": [
        {
          "output_type": "stream",
          "name": "stdout",
          "text": [
            "           id         price\n",
            "0  7313399730   9603.650391\n",
            "1  7308035814  27816.142578\n",
            "2  7317063645   5761.097656\n",
            "3  7310376764  32787.703125\n",
            "4  7309848062  23516.087891\n"
          ]
        },
        {
          "output_type": "display_data",
          "data": {
            "text/plain": [
              "<IPython.core.display.Javascript object>"
            ],
            "application/javascript": [
              "\n",
              "    async function download(id, filename, size) {\n",
              "      if (!google.colab.kernel.accessAllowed) {\n",
              "        return;\n",
              "      }\n",
              "      const div = document.createElement('div');\n",
              "      const label = document.createElement('label');\n",
              "      label.textContent = `Downloading \"${filename}\": `;\n",
              "      div.appendChild(label);\n",
              "      const progress = document.createElement('progress');\n",
              "      progress.max = size;\n",
              "      div.appendChild(progress);\n",
              "      document.body.appendChild(div);\n",
              "\n",
              "      const buffers = [];\n",
              "      let downloaded = 0;\n",
              "\n",
              "      const channel = await google.colab.kernel.comms.open(id);\n",
              "      // Send a message to notify the kernel that we're ready.\n",
              "      channel.send({})\n",
              "\n",
              "      for await (const message of channel.messages) {\n",
              "        // Send a message to notify the kernel that we're ready.\n",
              "        channel.send({})\n",
              "        if (message.buffers) {\n",
              "          for (const buffer of message.buffers) {\n",
              "            buffers.push(buffer);\n",
              "            downloaded += buffer.byteLength;\n",
              "            progress.value = downloaded;\n",
              "          }\n",
              "        }\n",
              "      }\n",
              "      const blob = new Blob(buffers, {type: 'application/binary'});\n",
              "      const a = document.createElement('a');\n",
              "      a.href = window.URL.createObjectURL(blob);\n",
              "      a.download = filename;\n",
              "      div.appendChild(a);\n",
              "      a.click();\n",
              "      div.remove();\n",
              "    }\n",
              "  "
            ]
          },
          "metadata": {}
        },
        {
          "output_type": "display_data",
          "data": {
            "text/plain": [
              "<IPython.core.display.Javascript object>"
            ],
            "application/javascript": [
              "download(\"download_883f36ae-c4b7-448b-89ad-0823f32607f7\", \"submission_xgbr_rscv.csv\", 2569713)"
            ]
          },
          "metadata": {}
        }
      ]
    }
  ],
  "metadata": {
    "kernelspec": {
      "display_name": "Python 3 (ipykernel)",
      "language": "python",
      "name": "python3"
    },
    "language_info": {
      "codemirror_mode": {
        "name": "ipython",
        "version": 3
      },
      "file_extension": ".py",
      "mimetype": "text/x-python",
      "name": "python",
      "nbconvert_exporter": "python",
      "pygments_lexer": "ipython3",
      "version": "3.8.12"
    },
    "colab": {
      "provenance": []
    }
  },
  "nbformat": 4,
  "nbformat_minor": 5
}