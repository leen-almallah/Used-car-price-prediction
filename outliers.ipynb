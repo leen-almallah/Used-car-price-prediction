{
 "cells": [
  {
   "cell_type": "code",
   "execution_count": 1,
   "id": "ffe39358",
   "metadata": {},
   "outputs": [],
   "source": [
    "import numpy as np\n",
    "import pandas as pd \n",
    "import matplotlib.pyplot as plt\n",
    "import seaborn as sns\n",
    "\n",
    "import warnings\n",
    "\n",
    "# Ignore all warning messages\n",
    "warnings.filterwarnings('ignore')"
   ]
  },
  {
   "cell_type": "code",
   "execution_count": 2,
   "id": "7774aa5d",
   "metadata": {},
   "outputs": [
    {
     "data": {
      "text/html": [
       "<div>\n",
       "<style scoped>\n",
       "    .dataframe tbody tr th:only-of-type {\n",
       "        vertical-align: middle;\n",
       "    }\n",
       "\n",
       "    .dataframe tbody tr th {\n",
       "        vertical-align: top;\n",
       "    }\n",
       "\n",
       "    .dataframe thead th {\n",
       "        text-align: right;\n",
       "    }\n",
       "</style>\n",
       "<table border=\"1\" class=\"dataframe\">\n",
       "  <thead>\n",
       "    <tr style=\"text-align: right;\">\n",
       "      <th></th>\n",
       "      <th>id</th>\n",
       "      <th>age</th>\n",
       "      <th>manufacturer</th>\n",
       "      <th>model</th>\n",
       "      <th>condition</th>\n",
       "      <th>cylinders</th>\n",
       "      <th>fuel</th>\n",
       "      <th>odometer</th>\n",
       "      <th>title_status</th>\n",
       "      <th>transmission</th>\n",
       "      <th>drive</th>\n",
       "      <th>type</th>\n",
       "      <th>state</th>\n",
       "      <th>price</th>\n",
       "    </tr>\n",
       "  </thead>\n",
       "  <tbody>\n",
       "    <tr>\n",
       "      <th>0</th>\n",
       "      <td>7309831550</td>\n",
       "      <td>16</td>\n",
       "      <td>13</td>\n",
       "      <td>m45</td>\n",
       "      <td>excellent</td>\n",
       "      <td>3</td>\n",
       "      <td>0</td>\n",
       "      <td>214740.0</td>\n",
       "      <td>clean</td>\n",
       "      <td>automatic</td>\n",
       "      <td>2</td>\n",
       "      <td>sedan</td>\n",
       "      <td>other</td>\n",
       "      <td>7995</td>\n",
       "    </tr>\n",
       "  </tbody>\n",
       "</table>\n",
       "</div>"
      ],
      "text/plain": [
       "           id  age  manufacturer model  condition  cylinders  fuel  odometer   \n",
       "0  7309831550   16            13   m45  excellent          3     0  214740.0  \\\n",
       "\n",
       "  title_status transmission  drive   type  state  price  \n",
       "0        clean    automatic      2  sedan  other   7995  "
      ]
     },
     "execution_count": 2,
     "metadata": {},
     "output_type": "execute_result"
    }
   ],
   "source": [
    "train=pd.read_csv(\"C:\\\\Users\\\\GTS\\\\Desktop\\\\AI Fatima\\\\Competitions\\\\Used Car Price Prediction\\\\modified\\\\Tmodified.csv\")\n",
    "train.head(1)"
   ]
  },
  {
   "cell_type": "code",
   "execution_count": 3,
   "id": "0cb436da",
   "metadata": {},
   "outputs": [
    {
     "data": {
      "text/plain": [
       "0"
      ]
     },
     "execution_count": 3,
     "metadata": {},
     "output_type": "execute_result"
    }
   ],
   "source": [
    "train.price.isnull().sum()"
   ]
  },
  {
   "cell_type": "code",
   "execution_count": 4,
   "id": "43b548ad",
   "metadata": {},
   "outputs": [
    {
     "data": {
      "text/html": [
       "<div>\n",
       "<style scoped>\n",
       "    .dataframe tbody tr th:only-of-type {\n",
       "        vertical-align: middle;\n",
       "    }\n",
       "\n",
       "    .dataframe tbody tr th {\n",
       "        vertical-align: top;\n",
       "    }\n",
       "\n",
       "    .dataframe thead th {\n",
       "        text-align: right;\n",
       "    }\n",
       "</style>\n",
       "<table border=\"1\" class=\"dataframe\">\n",
       "  <thead>\n",
       "    <tr style=\"text-align: right;\">\n",
       "      <th></th>\n",
       "      <th>id</th>\n",
       "      <th>age</th>\n",
       "      <th>manufacturer</th>\n",
       "      <th>model</th>\n",
       "      <th>condition</th>\n",
       "      <th>cylinders</th>\n",
       "      <th>fuel</th>\n",
       "      <th>odometer</th>\n",
       "      <th>title_status</th>\n",
       "      <th>transmission</th>\n",
       "      <th>drive</th>\n",
       "      <th>type</th>\n",
       "      <th>state</th>\n",
       "    </tr>\n",
       "  </thead>\n",
       "  <tbody>\n",
       "    <tr>\n",
       "      <th>0</th>\n",
       "      <td>7313399730</td>\n",
       "      <td>5</td>\n",
       "      <td>3</td>\n",
       "      <td>civic</td>\n",
       "      <td>like new</td>\n",
       "      <td>0</td>\n",
       "      <td>0</td>\n",
       "      <td>28898.0</td>\n",
       "      <td>clean</td>\n",
       "      <td>automatic</td>\n",
       "      <td>1</td>\n",
       "      <td>sedan</td>\n",
       "      <td>other</td>\n",
       "    </tr>\n",
       "  </tbody>\n",
       "</table>\n",
       "</div>"
      ],
      "text/plain": [
       "           id  age  manufacturer  model condition  cylinders  fuel  odometer   \n",
       "0  7313399730    5             3  civic  like new          0     0   28898.0  \\\n",
       "\n",
       "  title_status transmission  drive   type  state  \n",
       "0        clean    automatic      1  sedan  other  "
      ]
     },
     "execution_count": 4,
     "metadata": {},
     "output_type": "execute_result"
    }
   ],
   "source": [
    "test=pd.read_csv(\"C:\\\\Users\\\\GTS\\\\Desktop\\\\AI Fatima\\\\Competitions\\\\Used Car Price Prediction\\\\modified\\\\Smodified.csv\")\n",
    "test.head(1)"
   ]
  },
  {
   "cell_type": "code",
   "execution_count": 5,
   "id": "5ded63b8",
   "metadata": {},
   "outputs": [
    {
     "data": {
      "text/plain": [
       "((290129, 14), (124341, 13))"
      ]
     },
     "execution_count": 5,
     "metadata": {},
     "output_type": "execute_result"
    }
   ],
   "source": [
    "train.shape,test.shape"
   ]
  },
  {
   "cell_type": "code",
   "execution_count": 6,
   "id": "f92fa568",
   "metadata": {},
   "outputs": [
    {
     "data": {
      "image/png": "[encoded data removed]",
      "text/plain": [
       "<Figure size 1000x500 with 2 Axes>"
      ]
     },
     "metadata": {},
     "output_type": "display_data"
    }
   ],
   "source": [
    "fig, (ax1, ax2) = plt.subplots(1, 2, figsize=(10, 5))\n",
    "\n",
    "\n",
    "ax1.boxplot(x=train['price'])\n",
    "ax1.set_title('Boxplot for price')\n",
    "\n",
    "\n",
    "sns.distplot(train['price'])\n",
    "ax2.set_title('Histogram for price')\n",
    "\n",
    "# Add labels and titles\n",
    "fig.suptitle('Distribution of price')\n",
    "ax1.set_ylabel('Value')\n",
    "ax2.set_ylabel('Frequency')\n",
    "plt.show()"
   ]
  },
  {
   "cell_type": "code",
   "execution_count": 7,
   "id": "5aa8a25b",
   "metadata": {},
   "outputs": [
    {
     "data": {
      "image/png": "[encoded data removed]",
      "text/plain": [
       "<Figure size 640x480 with 1 Axes>"
      ]
     },
     "metadata": {},
     "output_type": "display_data"
    }
   ],
   "source": [
    "def min_max_price(df):\n",
    "    r=[]\n",
    "    q1,q3=(df['logprice'].quantile([0.25,0.75]))\n",
    "    r.append(q1-1.5*(q3-q1))\n",
    "    r.append(q3+1.5*(q3-q1))\n",
    "    return (r)\n",
    "train['logprice'] = np.log(train['price'])\n",
    "x=train['logprice']\n",
    "price_range=list(range(0,int(max(train['logprice']))+1))\n",
    "red_square = dict(markerfacecolor='g', marker='s')\n",
    "plt.boxplot(x, vert=False)\n",
    "plt.xticks(price_range)\n",
    "plt.text(min_max_price(train)[0]-0.3,1.05,str(round(min_max_price(train)[0],2)))\n",
    "plt.text(min_max_price(train)[1]-0.5,1.05,str(round(min_max_price(train)[1],2)))\n",
    "plt.title(\"Figure 1: Box Plot of Price\")\n",
    "plt.savefig('graph-boxplot-price.jpg')\n",
    "plt.show()"
   ]
  },
  {
   "cell_type": "code",
   "execution_count": 8,
   "id": "ecdb84b0",
   "metadata": {},
   "outputs": [
    {
     "name": "stdout",
     "output_type": "stream",
     "text": [
      "20509.0\n",
      "5991.0\n",
      "26500.0\n"
     ]
    },
    {
     "data": {
      "text/plain": [
       "(None, None, None)"
      ]
     },
     "execution_count": 8,
     "metadata": {},
     "output_type": "execute_result"
    }
   ],
   "source": [
    "# IQR\n",
    "Q1 = np.percentile(train['price'], 25,method = 'midpoint')\n",
    "\n",
    "Q3 = np.percentile(train['price'], 75, method = 'midpoint')\n",
    "IQR = Q3 - Q1\n",
    "print(IQR),print(Q1),print(Q3)"
   ]
  },
  {
   "cell_type": "code",
   "execution_count": 9,
   "id": "64492ca7",
   "metadata": {},
   "outputs": [
    {
     "data": {
      "text/plain": [
       "(3736928711, 0)"
      ]
     },
     "execution_count": 9,
     "metadata": {},
     "output_type": "execute_result"
    }
   ],
   "source": [
    "train.price.max(), train.price.min()"
   ]
  },
  {
   "cell_type": "code",
   "execution_count": 10,
   "id": "1ae6833b",
   "metadata": {},
   "outputs": [
    {
     "data": {
      "text/plain": [
       "(30244, 20)"
      ]
     },
     "execution_count": 10,
     "metadata": {},
     "output_type": "execute_result"
    }
   ],
   "source": [
    "(train.price<1000).sum(), (train.price>1000000).sum()"
   ]
  },
  {
   "cell_type": "code",
   "execution_count": 11,
   "id": "389c22f7",
   "metadata": {},
   "outputs": [],
   "source": [
    "#train.loc[train['price']==0, 'age']= train.price.mean()\n",
    "train = train[train['price'] <= 1000000]"
   ]
  },
  {
   "cell_type": "code",
   "execution_count": 12,
   "id": "a6b2f762",
   "metadata": {},
   "outputs": [
    {
     "data": {
      "text/html": [
       "<div>\n",
       "<style scoped>\n",
       "    .dataframe tbody tr th:only-of-type {\n",
       "        vertical-align: middle;\n",
       "    }\n",
       "\n",
       "    .dataframe tbody tr th {\n",
       "        vertical-align: top;\n",
       "    }\n",
       "\n",
       "    .dataframe thead th {\n",
       "        text-align: right;\n",
       "    }\n",
       "</style>\n",
       "<table border=\"1\" class=\"dataframe\">\n",
       "  <thead>\n",
       "    <tr style=\"text-align: right;\">\n",
       "      <th></th>\n",
       "      <th>manufacturer</th>\n",
       "      <th>price</th>\n",
       "    </tr>\n",
       "  </thead>\n",
       "  <tbody>\n",
       "    <tr>\n",
       "      <th>14</th>\n",
       "      <td>14</td>\n",
       "      <td>27229.802850</td>\n",
       "    </tr>\n",
       "    <tr>\n",
       "      <th>0</th>\n",
       "      <td>0</td>\n",
       "      <td>23288.256123</td>\n",
       "    </tr>\n",
       "    <tr>\n",
       "      <th>5</th>\n",
       "      <td>5</td>\n",
       "      <td>23164.389782</td>\n",
       "    </tr>\n",
       "    <tr>\n",
       "      <th>10</th>\n",
       "      <td>10</td>\n",
       "      <td>19291.530555</td>\n",
       "    </tr>\n",
       "    <tr>\n",
       "      <th>1</th>\n",
       "      <td>1</td>\n",
       "      <td>19064.609557</td>\n",
       "    </tr>\n",
       "    <tr>\n",
       "      <th>4</th>\n",
       "      <td>4</td>\n",
       "      <td>19034.569378</td>\n",
       "    </tr>\n",
       "    <tr>\n",
       "      <th>11</th>\n",
       "      <td>11</td>\n",
       "      <td>18886.265527</td>\n",
       "    </tr>\n",
       "    <tr>\n",
       "      <th>2</th>\n",
       "      <td>2</td>\n",
       "      <td>18473.278228</td>\n",
       "    </tr>\n",
       "    <tr>\n",
       "      <th>8</th>\n",
       "      <td>8</td>\n",
       "      <td>18117.786244</td>\n",
       "    </tr>\n",
       "    <tr>\n",
       "      <th>13</th>\n",
       "      <td>13</td>\n",
       "      <td>17535.290032</td>\n",
       "    </tr>\n",
       "    <tr>\n",
       "      <th>16</th>\n",
       "      <td>16</td>\n",
       "      <td>15954.436594</td>\n",
       "    </tr>\n",
       "    <tr>\n",
       "      <th>3</th>\n",
       "      <td>3</td>\n",
       "      <td>14160.892666</td>\n",
       "    </tr>\n",
       "    <tr>\n",
       "      <th>15</th>\n",
       "      <td>15</td>\n",
       "      <td>13031.034504</td>\n",
       "    </tr>\n",
       "    <tr>\n",
       "      <th>17</th>\n",
       "      <td>17</td>\n",
       "      <td>12609.177276</td>\n",
       "    </tr>\n",
       "    <tr>\n",
       "      <th>12</th>\n",
       "      <td>12</td>\n",
       "      <td>11832.871222</td>\n",
       "    </tr>\n",
       "    <tr>\n",
       "      <th>9</th>\n",
       "      <td>9</td>\n",
       "      <td>11240.262609</td>\n",
       "    </tr>\n",
       "    <tr>\n",
       "      <th>7</th>\n",
       "      <td>7</td>\n",
       "      <td>10862.801179</td>\n",
       "    </tr>\n",
       "    <tr>\n",
       "      <th>6</th>\n",
       "      <td>6</td>\n",
       "      <td>10832.686767</td>\n",
       "    </tr>\n",
       "  </tbody>\n",
       "</table>\n",
       "</div>"
      ],
      "text/plain": [
       "    manufacturer         price\n",
       "14            14  27229.802850\n",
       "0              0  23288.256123\n",
       "5              5  23164.389782\n",
       "10            10  19291.530555\n",
       "1              1  19064.609557\n",
       "4              4  19034.569378\n",
       "11            11  18886.265527\n",
       "2              2  18473.278228\n",
       "8              8  18117.786244\n",
       "13            13  17535.290032\n",
       "16            16  15954.436594\n",
       "3              3  14160.892666\n",
       "15            15  13031.034504\n",
       "17            17  12609.177276\n",
       "12            12  11832.871222\n",
       "9              9  11240.262609\n",
       "7              7  10862.801179\n",
       "6              6  10832.686767"
      ]
     },
     "execution_count": 12,
     "metadata": {},
     "output_type": "execute_result"
    }
   ],
   "source": [
    "train[['manufacturer', 'price']].groupby(['manufacturer'], as_index=False).mean().sort_values(by='price', ascending=False)"
   ]
  },
  {
   "cell_type": "code",
   "execution_count": 13,
   "id": "572768db",
   "metadata": {},
   "outputs": [
    {
     "data": {
      "text/plain": [
       "<matplotlib.collections.PathCollection at 0x16f747d0250>"
      ]
     },
     "execution_count": 13,
     "metadata": {},
     "output_type": "execute_result"
    },
    {
     "data": {
      "image/png": "[encoded data removed]",
      "text/plain": [
       "<Figure size 640x480 with 1 Axes>"
      ]
     },
     "metadata": {},
     "output_type": "display_data"
    }
   ],
   "source": [
    "plt.scatter(train.age,train.price)"
   ]
  },
  {
   "cell_type": "code",
   "execution_count": 14,
   "id": "ceba2e06",
   "metadata": {},
   "outputs": [
    {
     "data": {
      "text/plain": [
       "(17498.84517888104, 17498.84517888104)"
      ]
     },
     "execution_count": 14,
     "metadata": {},
     "output_type": "execute_result"
    }
   ],
   "source": [
    "train.price.mean(),train.price.mean()"
   ]
  },
  {
   "cell_type": "code",
   "execution_count": null,
   "id": "b49ee656",
   "metadata": {},
   "outputs": [],
   "source": [
    "fig, (ax1, ax2) = plt.subplots(1, 2, figsize=(10, 2))\n",
    "\n",
    "\n",
    "ax1.boxplot(x=train['age'])\n",
    "ax1.set_title('Boxplot for age')\n",
    "\n",
    "\n",
    "sns.distplot(train['age'])\n",
    "ax2.set_title('Histogram for age')\n",
    "\n",
    "# Add labels and titles\n",
    "fig.suptitle('Distribution of age')\n",
    "ax1.set_ylabel('Value')\n",
    "ax2.set_ylabel('Frequency')\n",
    "plt.show()\n"
   ]
  },
  {
   "cell_type": "code",
   "execution_count": null,
   "id": "0119b22e",
   "metadata": {},
   "outputs": [],
   "source": [
    "train.age.min(),train.age.max()"
   ]
  },
  {
   "cell_type": "code",
   "execution_count": null,
   "id": "0783bddf",
   "metadata": {},
   "outputs": [],
   "source": [
    "(train.age>100).sum()"
   ]
  },
  {
   "cell_type": "code",
   "execution_count": null,
   "id": "42160595",
   "metadata": {},
   "outputs": [],
   "source": [
    "# IQR\n",
    "Q1 = np.percentile(train['age'], 25,method = 'midpoint')# in the new version the interpolation is changed to method\n",
    "\n",
    "Q3 = np.percentile(train['age'], 75, method = 'midpoint')\n",
    "IQR = Q3 - Q1\n",
    "print(IQR),print(Q1),print(Q3)"
   ]
  },
  {
   "cell_type": "code",
   "execution_count": null,
   "id": "a962eb44",
   "metadata": {},
   "outputs": [],
   "source": [
    "train.age.min(), train.age.max()"
   ]
  },
  {
   "cell_type": "code",
   "execution_count": null,
   "id": "dd2b3aaa",
   "metadata": {},
   "outputs": [],
   "source": [
    "train.age.median(),train.age.mean()"
   ]
  },
  {
   "cell_type": "code",
   "execution_count": null,
   "id": "daa0ee06",
   "metadata": {},
   "outputs": [],
   "source": [
    "train.loc[train['age'] > 60, 'age'] = 60\n",
    "test.loc[test['age'] > 60, 'age'] =60"
   ]
  },
  {
   "cell_type": "code",
   "execution_count": null,
   "id": "798c44b5",
   "metadata": {},
   "outputs": [],
   "source": []
  },
  {
   "cell_type": "code",
   "execution_count": null,
   "id": "0b17e837",
   "metadata": {},
   "outputs": [],
   "source": [
    "fig, (ax1, ax2) = plt.subplots(1, 2, figsize=(10, 5))\n",
    "\n",
    "\n",
    "ax1.boxplot(x=train['age'])\n",
    "ax1.set_title('Boxplot for age')\n",
    "\n",
    "\n",
    "sns.distplot(train['age'])\n",
    "ax2.set_title('Histogram for age')\n",
    "\n",
    "# Add labels and titles\n",
    "fig.suptitle('Distribution of age')\n",
    "ax1.set_ylabel('Value')\n",
    "ax2.set_ylabel('Frequency')\n",
    "plt.show()\n"
   ]
  },
  {
   "cell_type": "code",
   "execution_count": null,
   "id": "d1a0ae6d",
   "metadata": {},
   "outputs": [],
   "source": [
    "plt.scatter(train.manufacturer,train.price)"
   ]
  },
  {
   "cell_type": "code",
   "execution_count": null,
   "id": "c99bb6cd",
   "metadata": {},
   "outputs": [],
   "source": [
    "plt.scatter(train.odometer,train.price)"
   ]
  },
  {
   "cell_type": "code",
   "execution_count": null,
   "id": "c3a5cdce",
   "metadata": {},
   "outputs": [],
   "source": [
    "fig, (ax1, ax2) = plt.subplots(1, 2, figsize=(10, 5))\n",
    "\n",
    "\n",
    "ax1.boxplot(x=train['odometer'])\n",
    "ax1.set_title('Boxplot for odometer')\n",
    "\n",
    "\n",
    "sns.distplot(train['odometer'])\n",
    "ax2.set_title('Histogram for odometer')\n",
    "\n",
    "# Add labels and titles\n",
    "fig.suptitle('Distribution of odometer')\n",
    "ax1.set_ylabel('Value')\n",
    "ax2.set_ylabel('Frequency')\n",
    "plt.show()"
   ]
  },
  {
   "cell_type": "code",
   "execution_count": null,
   "id": "cbe6f7a5",
   "metadata": {},
   "outputs": [],
   "source": [
    "train.loc[train['odometer'] >0.4e7, 'odometer'] = 0.4e7\n",
    "test.loc[test['odometer'] >0.4e7, 'odometer'] = 0.4e7"
   ]
  },
  {
   "cell_type": "code",
   "execution_count": null,
   "id": "5fa15128",
   "metadata": {},
   "outputs": [],
   "source": [
    "train.odometer.median(),train.odometer.mean()"
   ]
  },
  {
   "cell_type": "code",
   "execution_count": null,
   "id": "09dbf92c",
   "metadata": {},
   "outputs": [],
   "source": [
    "fig, (ax1, ax2) = plt.subplots(1, 2, figsize=(10, 5))\n",
    "\n",
    "\n",
    "ax1.boxplot(x=train['odometer'])\n",
    "ax1.set_title('Boxplot for odometer')\n",
    "\n",
    "\n",
    "sns.distplot(train['odometer'])\n",
    "ax2.set_title('Histogram for odometer')\n",
    "\n",
    "# Add labels and titles\n",
    "fig.suptitle('Distribution of odometer')\n",
    "ax1.set_ylabel('Value')\n",
    "ax2.set_ylabel('Frequency')\n",
    "plt.show()"
   ]
  },
  {
   "cell_type": "code",
   "execution_count": null,
   "id": "d24dd081",
   "metadata": {},
   "outputs": [],
   "source": [
    "train.odometer.min(),train.odometer.max()"
   ]
  },
  {
   "cell_type": "code",
   "execution_count": null,
   "id": "bc79efc8",
   "metadata": {},
   "outputs": [],
   "source": [
    "(train.odometer>0.4e7).sum()"
   ]
  },
  {
   "cell_type": "code",
   "execution_count": null,
   "id": "82086649",
   "metadata": {},
   "outputs": [],
   "source": [
    "train.drop(['model','logprice'],axis=1,inplace=True)\n"
   ]
  },
  {
   "cell_type": "code",
   "execution_count": null,
   "id": "897970b0",
   "metadata": {},
   "outputs": [],
   "source": [
    "test.drop(['model'], axis=1, inplace=True)"
   ]
  },
  {
   "cell_type": "code",
   "execution_count": null,
   "id": "5b5ee370",
   "metadata": {},
   "outputs": [],
   "source": [
    "from sklearn.preprocessing import LabelEncoder\n",
    "le = LabelEncoder()\n",
    "#New variable for outlet\n",
    "var_mod = ['condition','title_status', 'type', 'state','transmission','cylinders','drive']\n",
    "for i in var_mod:\n",
    "    train[i] = le.fit_transform(train[i])\n",
    "########################################################################################################################\n",
    "\n",
    "le = LabelEncoder()\n",
    "#New variable for outlet\n",
    "var_mod = ['condition','title_status', 'type', 'state','transmission','cylinders','drive']\n",
    "for i in var_mod:\n",
    "    test[i] = le.fit_transform(test[i])"
   ]
  },
  {
   "cell_type": "code",
   "execution_count": null,
   "id": "1737d30d",
   "metadata": {},
   "outputs": [],
   "source": [
    "#plotting the correlation matrix\n",
    "sns.heatmap(train.corr() ,cmap='rocket',annot=True, fmt=\".2f\")\n",
    "plt.gcf().set_size_inches(9, 8)"
   ]
  },
  {
   "cell_type": "code",
   "execution_count": null,
   "id": "32d3eda1",
   "metadata": {},
   "outputs": [],
   "source": [
    "#plotting the correlation matrix\n",
    "sns.heatmap(train.corr(method= 'spearman' ),cmap='rocket',annot=True, fmt=\".2f\")\n",
    "plt.gcf().set_size_inches(9, 8)"
   ]
  },
  {
   "cell_type": "code",
   "execution_count": null,
   "id": "42ebe3bd",
   "metadata": {},
   "outputs": [],
   "source": [
    "# data standardization with  sklearn\n",
    "from sklearn.preprocessing import StandardScaler\n",
    "\n",
    "# copy of datasets\n",
    "train_stand = train.copy()\n",
    "test_stand = test.copy()\n",
    "\n",
    "# numerical features\n",
    "num_cols = [ 'age', 'manufacturer', 'condition', 'cylinders', 'fuel',\n",
    "       'odometer', 'title_status', 'transmission', 'drive', 'type', 'state']\n",
    "\n",
    "# apply standardization on numerical features\n",
    "for i in num_cols:\n",
    "    \n",
    "    # fit on training data column\n",
    "    scale = StandardScaler().fit(train_stand[[i]])\n",
    "    \n",
    "    # transform the training data column\n",
    "    train_stand[i] = scale.transform(train_stand[[i]])\n",
    "    \n",
    "    # transform the testing data column\n",
    "    test_stand[i] = scale.transform(test_stand[[i]])"
   ]
  },
  {
   "cell_type": "code",
   "execution_count": null,
   "id": "a1032f49",
   "metadata": {},
   "outputs": [],
   "source": [
    "train_stand.to_csv(\"C:\\\\Users\\\\GTS\\\\Desktop\\\\AI Fatima\\\\Competitions\\\\Used Car Price Prediction\\\\modified\\\\train_modified.csv\",index=False)\n",
    "test_stand.to_csv(\"C:\\\\Users\\\\GTS\\\\Desktop\\\\AI Fatima\\\\Competitions\\\\Used Car Price Prediction\\\\modified\\\\test_modified.csv\",index=False)\n"
   ]
  }
 ],
 "metadata": {
  "kernelspec": {
   "display_name": "Python 3 (ipykernel)",
   "language": "python",
   "name": "python3"
  },
  "language_info": {
   "codemirror_mode": {
    "name": "ipython",
    "version": 3
   },
   "file_extension": ".py",
   "mimetype": "text/x-python",
   "name": "python",
   "nbconvert_exporter": "python",
   "pygments_lexer": "ipython3",
   "version": "3.9.13"
  }
 },
 "nbformat": 4,
 "nbformat_minor": 5
}
