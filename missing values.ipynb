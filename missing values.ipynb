{
 "cells": [
  {
   "cell_type": "code",
   "execution_count": 1,
   "id": "d9bf87d5",
   "metadata": {},
   "outputs": [],
   "source": [
    "import numpy as np\n",
    "import pandas as pd\n",
    "import datetime\n",
    "import matplotlib.pyplot as plt\n",
    "import seaborn as sns\n",
    "import datetime\n",
    "\n",
    "import warnings\n",
    "warnings.filterwarnings(\"ignore\")\n"
   ]
  },
  {
   "cell_type": "code",
   "execution_count": 2,
   "id": "03b8be42",
   "metadata": {},
   "outputs": [
    {
     "data": {
      "text/html": [
       "<div>\n",
       "<style scoped>\n",
       "    .dataframe tbody tr th:only-of-type {\n",
       "        vertical-align: middle;\n",
       "    }\n",
       "\n",
       "    .dataframe tbody tr th {\n",
       "        vertical-align: top;\n",
       "    }\n",
       "\n",
       "    .dataframe thead th {\n",
       "        text-align: right;\n",
       "    }\n",
       "</style>\n",
       "<table border=\"1\" class=\"dataframe\">\n",
       "  <thead>\n",
       "    <tr style=\"text-align: right;\">\n",
       "      <th></th>\n",
       "      <th>id</th>\n",
       "      <th>year</th>\n",
       "      <th>manufacturer</th>\n",
       "      <th>model</th>\n",
       "      <th>condition</th>\n",
       "      <th>cylinders</th>\n",
       "      <th>fuel</th>\n",
       "      <th>odometer</th>\n",
       "      <th>title_status</th>\n",
       "      <th>transmission</th>\n",
       "      <th>drive</th>\n",
       "      <th>size</th>\n",
       "      <th>type</th>\n",
       "      <th>paint_color</th>\n",
       "      <th>state</th>\n",
       "      <th>lat</th>\n",
       "      <th>long</th>\n",
       "      <th>posting_date</th>\n",
       "      <th>price</th>\n",
       "    </tr>\n",
       "  </thead>\n",
       "  <tbody>\n",
       "    <tr>\n",
       "      <th>121610</th>\n",
       "      <td>7309831550</td>\n",
       "      <td>2007.0</td>\n",
       "      <td>infiniti</td>\n",
       "      <td>m45</td>\n",
       "      <td>excellent</td>\n",
       "      <td>NaN</td>\n",
       "      <td>gas</td>\n",
       "      <td>214740.0</td>\n",
       "      <td>clean</td>\n",
       "      <td>automatic</td>\n",
       "      <td>rwd</td>\n",
       "      <td>NaN</td>\n",
       "      <td>sedan</td>\n",
       "      <td>black</td>\n",
       "      <td>ga</td>\n",
       "      <td>34.139588</td>\n",
       "      <td>-83.971135</td>\n",
       "      <td>2021-04-20T11:46:13-0400</td>\n",
       "      <td>7995</td>\n",
       "    </tr>\n",
       "  </tbody>\n",
       "</table>\n",
       "</div>"
      ],
      "text/plain": [
       "                id    year manufacturer model  condition cylinders fuel   \n",
       "121610  7309831550  2007.0     infiniti   m45  excellent       NaN  gas  \\\n",
       "\n",
       "        odometer title_status transmission drive size   type paint_color   \n",
       "121610  214740.0        clean    automatic   rwd  NaN  sedan       black  \\\n",
       "\n",
       "       state        lat       long              posting_date  price  \n",
       "121610    ga  34.139588 -83.971135  2021-04-20T11:46:13-0400   7995  "
      ]
     },
     "execution_count": 2,
     "metadata": {},
     "output_type": "execute_result"
    }
   ],
   "source": [
    "train=pd.read_csv(\"C:\\\\Users\\\\GTS\\\\Desktop\\\\AI Fatima\\\\Competitions\\\\Used Car Price Prediction\\\\train.csv\", index_col=0)\n",
    "train.head(1)"
   ]
  },
  {
   "cell_type": "code",
   "execution_count": 3,
   "id": "2183a1f3",
   "metadata": {},
   "outputs": [
    {
     "data": {
      "text/html": [
       "<div>\n",
       "<style scoped>\n",
       "    .dataframe tbody tr th:only-of-type {\n",
       "        vertical-align: middle;\n",
       "    }\n",
       "\n",
       "    .dataframe tbody tr th {\n",
       "        vertical-align: top;\n",
       "    }\n",
       "\n",
       "    .dataframe thead th {\n",
       "        text-align: right;\n",
       "    }\n",
       "</style>\n",
       "<table border=\"1\" class=\"dataframe\">\n",
       "  <thead>\n",
       "    <tr style=\"text-align: right;\">\n",
       "      <th></th>\n",
       "      <th>id</th>\n",
       "      <th>year</th>\n",
       "      <th>manufacturer</th>\n",
       "      <th>model</th>\n",
       "      <th>condition</th>\n",
       "      <th>cylinders</th>\n",
       "      <th>fuel</th>\n",
       "      <th>odometer</th>\n",
       "      <th>title_status</th>\n",
       "      <th>transmission</th>\n",
       "      <th>drive</th>\n",
       "      <th>size</th>\n",
       "      <th>type</th>\n",
       "      <th>paint_color</th>\n",
       "      <th>state</th>\n",
       "      <th>lat</th>\n",
       "      <th>long</th>\n",
       "      <th>posting_date</th>\n",
       "    </tr>\n",
       "  </thead>\n",
       "  <tbody>\n",
       "    <tr>\n",
       "      <th>316575</th>\n",
       "      <td>7313399730</td>\n",
       "      <td>2018.0</td>\n",
       "      <td>honda</td>\n",
       "      <td>civic</td>\n",
       "      <td>NaN</td>\n",
       "      <td>4 cylinders</td>\n",
       "      <td>gas</td>\n",
       "      <td>28898.0</td>\n",
       "      <td>clean</td>\n",
       "      <td>automatic</td>\n",
       "      <td>fwd</td>\n",
       "      <td>NaN</td>\n",
       "      <td>sedan</td>\n",
       "      <td>NaN</td>\n",
       "      <td>or</td>\n",
       "      <td>44.97143</td>\n",
       "      <td>-123.018548</td>\n",
       "      <td>2021-04-27T10:09:18-0700</td>\n",
       "    </tr>\n",
       "  </tbody>\n",
       "</table>\n",
       "</div>"
      ],
      "text/plain": [
       "                id    year manufacturer  model condition    cylinders fuel   \n",
       "316575  7313399730  2018.0        honda  civic       NaN  4 cylinders  gas  \\\n",
       "\n",
       "        odometer title_status transmission drive size   type paint_color   \n",
       "316575   28898.0        clean    automatic   fwd  NaN  sedan         NaN  \\\n",
       "\n",
       "       state       lat        long              posting_date  \n",
       "316575    or  44.97143 -123.018548  2021-04-27T10:09:18-0700  "
      ]
     },
     "execution_count": 3,
     "metadata": {},
     "output_type": "execute_result"
    }
   ],
   "source": [
    "test=pd.read_csv(\"C:\\\\Users\\\\GTS\\\\Desktop\\\\AI Fatima\\\\Competitions\\\\Used Car Price Prediction\\\\test.csv\", index_col=0)\n",
    "test.head(1)"
   ]
  },
  {
   "cell_type": "code",
   "execution_count": 4,
   "id": "a60855f8",
   "metadata": {},
   "outputs": [
    {
     "name": "stdout",
     "output_type": "stream",
     "text": [
      "<class 'pandas.core.frame.DataFrame'>\n",
      "Index: 124341 entries, 316575 to 190395\n",
      "Data columns (total 18 columns):\n",
      " #   Column        Non-Null Count   Dtype  \n",
      "---  ------        --------------   -----  \n",
      " 0   id            124341 non-null  int64  \n",
      " 1   year          124341 non-null  float64\n",
      " 2   manufacturer  119488 non-null  object \n",
      " 3   model         124341 non-null  object \n",
      " 4   condition     74522 non-null   object \n",
      " 5   cylinders     72970 non-null   object \n",
      " 6   fuel          123696 non-null  object \n",
      " 7   odometer      124341 non-null  float64\n",
      " 8   title_status  122132 non-null  object \n",
      " 9   transmission  124341 non-null  object \n",
      " 10  drive         86569 non-null   object \n",
      " 11  size          35237 non-null   object \n",
      " 12  type          97522 non-null   object \n",
      " 13  paint_color   86774 non-null   object \n",
      " 14  state         124341 non-null  object \n",
      " 15  lat           122380 non-null  float64\n",
      " 16  long          122380 non-null  float64\n",
      " 17  posting_date  124341 non-null  object \n",
      "dtypes: float64(4), int64(1), object(13)\n",
      "memory usage: 18.0+ MB\n"
     ]
    }
   ],
   "source": [
    "test.info()"
   ]
  },
  {
   "cell_type": "code",
   "execution_count": 5,
   "id": "141694bc",
   "metadata": {},
   "outputs": [
    {
     "data": {
      "text/plain": [
       "((290129, 19), (124341, 18))"
      ]
     },
     "execution_count": 5,
     "metadata": {},
     "output_type": "execute_result"
    }
   ],
   "source": [
    "train.shape, test.shape"
   ]
  },
  {
   "cell_type": "code",
   "execution_count": 6,
   "id": "9bbd1429",
   "metadata": {},
   "outputs": [
    {
     "data": {
      "text/plain": [
       "id                   0\n",
       "year                 0\n",
       "manufacturer     11342\n",
       "model                0\n",
       "condition       116104\n",
       "cylinders       119300\n",
       "fuel              1453\n",
       "odometer             0\n",
       "title_status      5066\n",
       "transmission         0\n",
       "drive            88087\n",
       "size            207684\n",
       "type             62596\n",
       "paint_color      87113\n",
       "state                0\n",
       "lat               4403\n",
       "long              4403\n",
       "posting_date         0\n",
       "price                0\n",
       "dtype: int64"
      ]
     },
     "execution_count": 6,
     "metadata": {},
     "output_type": "execute_result"
    }
   ],
   "source": [
    "train.isnull().sum()"
   ]
  },
  {
   "cell_type": "code",
   "execution_count": 7,
   "id": "9670fa41",
   "metadata": {},
   "outputs": [
    {
     "data": {
      "text/plain": [
       "id                  0\n",
       "year                0\n",
       "manufacturer     4853\n",
       "model               0\n",
       "condition       49819\n",
       "cylinders       51371\n",
       "fuel              645\n",
       "odometer            0\n",
       "title_status     2209\n",
       "transmission        0\n",
       "drive           37772\n",
       "size            89104\n",
       "type            26819\n",
       "paint_color     37567\n",
       "state               0\n",
       "lat              1961\n",
       "long             1961\n",
       "posting_date        0\n",
       "dtype: int64"
      ]
     },
     "execution_count": 7,
     "metadata": {},
     "output_type": "execute_result"
    }
   ],
   "source": [
    "test.isnull().sum()"
   ]
  },
  {
   "cell_type": "markdown",
   "id": "4043e423",
   "metadata": {},
   "source": [
    "## Year"
   ]
  },
  {
   "cell_type": "markdown",
   "id": "224fa249",
   "metadata": {},
   "source": [
    "**We are going to calculate the age of the car from year and posting_date columns then drop Them.**"
   ]
  },
  {
   "cell_type": "code",
   "execution_count": null,
   "id": "01dcb7cc",
   "metadata": {},
   "outputs": [],
   "source": [
    "# convert to integer:\n",
    "\n",
    "train.year=train.year.astype(int)\n",
    "test.year=test.year.astype(int)"
   ]
  },
  {
   "cell_type": "code",
   "execution_count": null,
   "id": "a657b9a3",
   "metadata": {},
   "outputs": [],
   "source": [
    "print(train.year.isnull().sum())\n",
    "print(test.year.isnull().sum())"
   ]
  },
  {
   "cell_type": "code",
   "execution_count": null,
   "id": "469d235c",
   "metadata": {},
   "outputs": [],
   "source": [
    "# calculate the work age of the car:\n",
    "current_year = datetime.datetime.now().year\n",
    "train.insert(1, 'age',0)\n",
    "\n",
    "train['age']=train['year'].apply(lambda year: current_year - year)\n",
    "\n",
    "\n",
    "test.insert(1, 'age',0)\n",
    "\n",
    "test['age']=test['year'].apply(lambda year: current_year - year)"
   ]
  },
  {
   "cell_type": "code",
   "execution_count": null,
   "id": "1afbaf16",
   "metadata": {},
   "outputs": [],
   "source": [
    "train['age'].min(), train['age'].max()"
   ]
  },
  {
   "cell_type": "code",
   "execution_count": null,
   "id": "a284f070",
   "metadata": {},
   "outputs": [],
   "source": [
    "test"
   ]
  },
  {
   "cell_type": "code",
   "execution_count": null,
   "id": "a4b116df",
   "metadata": {},
   "outputs": [],
   "source": [
    "plt.figure(figsize = (15, 8))\n",
    "sns.countplot(x=train.age)\n",
    "plt.xlabel(\"Count\")\n",
    "plt.ylabel(\"Age\")\n",
    "plt.title(\"Train Age frequency\")\n",
    "plt.xticks(rotation=90)\n",
    "plt.show"
   ]
  },
  {
   "cell_type": "code",
   "execution_count": null,
   "id": "f0692d48",
   "metadata": {
    "scrolled": false
   },
   "outputs": [],
   "source": [
    "plt.figure(figsize=(15,8))\n",
    "sns.countplot(x=test.age)\n",
    "plt.figure(figsize = (12, 20))\n",
    "sns.countplot(y=test.age)\n",
    "plt.xlabel(\"Count\")\n",
    "plt.ylabel(\"Age\")\n",
    "plt.title(\"Test Age frequency\")\n",
    "plt.xticks(rotation=90)\n",
    "plt.show"
   ]
  },
  {
   "cell_type": "code",
   "execution_count": null,
   "id": "f28aaea2",
   "metadata": {},
   "outputs": [],
   "source": [
    "plt.scatter(x=train.price, y=train.age)"
   ]
  },
  {
   "cell_type": "markdown",
   "id": "94e2049a",
   "metadata": {},
   "source": [
    "## odometer"
   ]
  },
  {
   "cell_type": "code",
   "execution_count": null,
   "id": "b7bf7a99",
   "metadata": {},
   "outputs": [],
   "source": [
    "train.odometer.value_counts()"
   ]
  },
  {
   "cell_type": "code",
   "execution_count": null,
   "id": "b14e9255",
   "metadata": {
    "scrolled": true
   },
   "outputs": [],
   "source": [
    "test.odometer.value_counts()"
   ]
  },
  {
   "cell_type": "code",
   "execution_count": null,
   "id": "deb325bd",
   "metadata": {},
   "outputs": [],
   "source": [
    "train.odometer.isnull().sum(),test.odometer.isnull().sum()"
   ]
  },
  {
   "cell_type": "code",
   "execution_count": null,
   "id": "ec08236d",
   "metadata": {},
   "outputs": [],
   "source": [
    "train.odometer.min(), train.odometer.max()"
   ]
  },
  {
   "cell_type": "markdown",
   "id": "89914f3c",
   "metadata": {},
   "source": [
    "**odometer has different value in different range, we can handle it in scalling step.** "
   ]
  },
  {
   "cell_type": "code",
   "execution_count": null,
   "id": "34aab606",
   "metadata": {},
   "outputs": [],
   "source": [
    "plt.scatter(x=train.price, y=train.odometer)"
   ]
  },
  {
   "cell_type": "markdown",
   "id": "687967c3",
   "metadata": {},
   "source": [
    "## state"
   ]
  },
  {
   "cell_type": "code",
   "execution_count": null,
   "id": "a1be9836",
   "metadata": {},
   "outputs": [],
   "source": [
    "train.state.value_counts()"
   ]
  },
  {
   "cell_type": "code",
   "execution_count": null,
   "id": "6b318a55",
   "metadata": {},
   "outputs": [],
   "source": [
    "test.state.value_counts()"
   ]
  },
  {
   "cell_type": "code",
   "execution_count": null,
   "id": "51e97af1",
   "metadata": {},
   "outputs": [],
   "source": [
    "train.state.isnull().sum(),test.state.isnull().sum()"
   ]
  },
  {
   "cell_type": "code",
   "execution_count": null,
   "id": "0aae4250",
   "metadata": {},
   "outputs": [],
   "source": [
    "train.state.unique()"
   ]
  },
  {
   "cell_type": "code",
   "execution_count": null,
   "id": "a25ea8fa",
   "metadata": {
    "scrolled": true
   },
   "outputs": [],
   "source": [
    "plt.figure(figsize=(12,10))\n",
    "sns.countplot(x=train.state)\n",
    "plt.xlabel(\"State\")\n",
    "plt.ylabel(\"Count\")\n",
    "plt.title(\"Train State frequency\")\n",
    "plt.show"
   ]
  },
  {
   "cell_type": "code",
   "execution_count": null,
   "id": "b17a3493",
   "metadata": {
    "scrolled": true
   },
   "outputs": [],
   "source": [
    "plt.figure(figsize=(8,8))\n",
    "plt.scatter(x=train.state,y=train.price)\n",
    "plt.xlabel(\"State\")\n",
    "plt.ylabel(\"price\")\n",
    "\n",
    "plt.show"
   ]
  },
  {
   "cell_type": "code",
   "execution_count": null,
   "id": "5d332397",
   "metadata": {},
   "outputs": [],
   "source": [
    "state_counts = train['state'].value_counts()\n",
    "\n",
    "# Get the list of manufacturers with counts less than 5000\n",
    "state_to_replace = state_counts[state_counts < 5000].index.tolist()\n",
    "\n",
    "# Replace 'manufacturer' values with counts less than 5000 with 'other'\n",
    "train.loc[train['state'].isin(state_to_replace), 'state'] = 'other'\n",
    "\n",
    "###########################################################\n",
    "state_counts = test['state'].value_counts()\n",
    "\n",
    "# Get the list of manufacturers with counts less than 5000\n",
    "state_to_replace = state_counts[state_counts < 5000].index.tolist()\n",
    "\n",
    "# Replace 'manufacturer' values with counts less than 5000 with 'other'\n",
    "test.loc[test['state'].isin(state_to_replace), 'state'] = 'other'\n"
   ]
  },
  {
   "cell_type": "markdown",
   "id": "b1d37852",
   "metadata": {},
   "source": [
    "## transmission"
   ]
  },
  {
   "cell_type": "code",
   "execution_count": null,
   "id": "8e5fdd02",
   "metadata": {},
   "outputs": [],
   "source": [
    "train.transmission.value_counts()"
   ]
  },
  {
   "cell_type": "code",
   "execution_count": null,
   "id": "cab1df89",
   "metadata": {},
   "outputs": [],
   "source": [
    "test.transmission.value_counts()"
   ]
  },
  {
   "cell_type": "code",
   "execution_count": null,
   "id": "7bbec4b7",
   "metadata": {},
   "outputs": [],
   "source": [
    "train.transmission.isnull().sum(),test.transmission.isnull().sum()"
   ]
  },
  {
   "cell_type": "code",
   "execution_count": null,
   "id": "5bdf7b9d",
   "metadata": {
    "scrolled": true
   },
   "outputs": [],
   "source": [
    "plt.figure(figsize=(12,10))\n",
    "sns.countplot(x=train.transmission)\n",
    "plt.xlabel(\"Count\")\n",
    "plt.ylabel(\"Transmission\")\n",
    "plt.title(\"Train Transmssion frequency\")\n",
    "plt.show"
   ]
  },
  {
   "cell_type": "code",
   "execution_count": null,
   "id": "c7f5d674",
   "metadata": {
    "scrolled": true
   },
   "outputs": [],
   "source": [
    "plt.figure(figsize=(12,10))\n",
    "sns.countplot(x=test.transmission)\n",
    "plt.xlabel(\"Count\")\n",
    "plt.ylabel(\"Transmission\")\n",
    "plt.title(\"Test Transmission frequency\")\n",
    "plt.show"
   ]
  },
  {
   "cell_type": "markdown",
   "id": "c112f71b",
   "metadata": {},
   "source": [
    "## manufacturer"
   ]
  },
  {
   "cell_type": "code",
   "execution_count": null,
   "id": "1cc01a4c",
   "metadata": {},
   "outputs": [],
   "source": [
    "plt.figure(figsize=(12,10))\n",
    "sns.countplot(x=train.manufacturer)\n",
    "plt.xlabel(\"Count\")\n",
    "plt.ylabel(\"Manufacturer\")\n",
    "plt.title(\"Train Manufacturer frequency\")\n",
    "plt.xticks(rotation=90)\n",
    "plt.show"
   ]
  },
  {
   "cell_type": "code",
   "execution_count": null,
   "id": "1a99a5ed",
   "metadata": {},
   "outputs": [],
   "source": [
    "train.manufacturer.isnull().sum(),test.manufacturer.isnull().sum()"
   ]
  },
  {
   "cell_type": "code",
   "execution_count": null,
   "id": "780b18d7",
   "metadata": {},
   "outputs": [],
   "source": [
    "train.model.value_counts()"
   ]
  },
  {
   "cell_type": "code",
   "execution_count": null,
   "id": "820e7993",
   "metadata": {},
   "outputs": [],
   "source": [
    "test.model.value_counts()"
   ]
  },
  {
   "cell_type": "markdown",
   "id": "659d0e0e",
   "metadata": {},
   "source": [
    "**we will use model to fill null values in the manufacturer then drop it**"
   ]
  },
  {
   "cell_type": "code",
   "execution_count": 13,
   "id": "3d55ef6a",
   "metadata": {},
   "outputs": [],
   "source": [
    "mask = (train.manufacturer.isnull()) & (train.model == 'INTERNATIONAL WATER TRUCK')\n",
    "train.loc[mask, 'manufacturer'] = 'navistar'\n",
    "mask = (test.manufacturer.isnull()) & (test.model == 'INTERNATIONAL WATER TRUCK')\n",
    "test.loc[mask, 'manufacturer'] = 'navistar'\n",
    "\n",
    "mask = (train.manufacturer.isnull()) & ((train.model == 'International')|(train.model == 'INTERNATIONAL 4600')|(train.model == 'international 4700'))\n",
    "train.loc[mask, 'manufacturer'] = 'navistar'\n",
    "mask = (test.manufacturer.isnull()) & ((test.model == 'International')|(test.model == 'INTERNATIONAL 4600')|(test.model == 'international 4700'))\n",
    "test.loc[mask, 'manufacturer'] = 'navistar'\n",
    "\n",
    "mask = (train.manufacturer.isnull()) & ((train.model == 'International 3800 School Bus')|(train.model == 'international school bus'))\n",
    "train.loc[mask, 'manufacturer'] = 'navistar'\n",
    "mask = (test.manufacturer.isnull()) & (test.model == 'International 3800 School Bus')|(test.model == 'international school bus')\n",
    "test.loc[mask, 'manufacturer'] = 'navistar'\n",
    "\n",
    "mask = (train.manufacturer.isnull()) & (train.model == 'International 7400')\n",
    "train.loc[mask, 'manufacturer'] = 'navistar'\n",
    "mask = (test.manufacturer.isnull()) & (test.model == 'International 7400')\n",
    "test.loc[mask, 'manufacturer'] = 'navistar'\n",
    "\n",
    "mask = (train.manufacturer.isnull()) & (train.model == 'conversion van')\n",
    "train.loc[mask, 'manufacturer'] = 'chevrolet'\n",
    "mask = (test.manufacturer.isnull()) & (test.model == 'conversion van')\n",
    "test.loc[mask, 'manufacturer'] = 'chevrolet'\n",
    "\n",
    "mask = (train.manufacturer.isnull()) & (train.model == 'chysler convertible 200')\n",
    "train.loc[mask, 'manufacturer'] = 'chrysler'\n",
    "mask = (test.manufacturer.isnull()) & (test.model == 'chysler convertible 200')\n",
    "test.loc[mask, 'manufacturer'] = 'chrysler'\n",
    "\n",
    "mask = (train.manufacturer.isnull()) & ((train.model == 'Freightliner Cascadia')|(train.model == 'Freightliner M-Line Walk-in Van')|(train.model == 'freightliner m2 106 medium duty'))\n",
    "train.loc[mask, 'manufacturer'] = 'dtna'\n",
    "mask = (test.manufacturer.isnull()) & ((test.model == 'Freightliner Cascadia')|(test.model == 'Freightliner M-Line Walk-in Van')|(test.model == 'freightliner m2 106 medium duty'))\n",
    "test.loc[mask, 'manufacturer'] = 'dtna'\n",
    "\n",
    "mask = (train.manufacturer.isnull()) & (train.model == 'Thomas Saf-t-liner School Bus')\n",
    "train.loc[mask, 'manufacturer'] = 'dtna'\n",
    "mask = (test.manufacturer.isnull()) & (test.model == 'Thomas Saf-t-liner School Bus')\n",
    "test.loc[mask, 'manufacturer'] = 'dtna'\n",
    "\n",
    "mask = (train.manufacturer.isnull()) & (train.model == 'freightliner cascadia')\n",
    "train.loc[mask, 'manufacturer'] = 'dtna'\n",
    "mask = (test.manufacturer.isnull()) & (test.model == 'freightliner cascadia')\n",
    "test.loc[mask, 'manufacturer'] = 'dtna'\n",
    "\n",
    "mask = (train.manufacturer.isnull()) & (train.model == 'Freightliner Sprinter 2500 Crew')\n",
    "train.loc[mask, 'manufacturer'] = 'dtna'\n",
    "mask = (test.manufacturer.isnull()) & (test.model == 'Freightliner Sprinter 2500 Crew')\n",
    "test.loc[mask, 'manufacturer'] = 'dtna'\n",
    "\n",
    "mask = (train.manufacturer.isnull()) & (train.model == 'Silverado k2500hd')\n",
    "train.loc[mask, 'manufacturer'] = 'chevrolet'\n",
    "mask = (test.manufacturer.isnull()) & (test.model == 'Silverado k2500hd')\n",
    "test.loc[mask, 'manufacturer'] = 'chevrolet'\n",
    "\n",
    "\n",
    "mask = (train.manufacturer.isnull()) & (train.model == 'Scion XB')\n",
    "train.loc[mask, 'manufacturer'] = 'scion'\n",
    "mask = (test.manufacturer.isnull()) & (test.model == 'Scion XB')\n",
    "test.loc[mask, 'manufacturer'] = 'Scion'\n",
    "\n",
    "mask = (train.manufacturer.isnull()) & (train.model == 'Scion xB')\n",
    "train.loc[mask, 'manufacturer'] = 'scion'\n",
    "mask = (test.manufacturer.isnull()) & (test.model == 'Scion xB')\n",
    "test.loc[mask, 'manufacturer'] = 'Scion'\n",
    "\n",
    "mask = (train.manufacturer.isnull()) & (train.model == 'scion tc')\n",
    "train.loc[mask, 'manufacturer'] = 'scion'\n",
    "mask = (test.manufacturer.isnull()) & (test.model == 'scion tc')\n",
    "test.loc[mask, 'manufacturer'] = 'Scion'\n",
    "\n",
    "mask = (train.manufacturer.isnull()) & (train.model == 'SCION TC')\n",
    "train.loc[mask, 'manufacturer'] = 'scion'\n",
    "mask = (test.manufacturer.isnull()) & (test.model == 'SCION TC')\n",
    "test.loc[mask, 'manufacturer'] = 'Scion'\n",
    "\n",
    "mask = (train.manufacturer.isnull()) & (train.model == 'Suzuki SX4')\n",
    "train.loc[mask, 'manufacturer'] = 'suzuki'\n",
    "mask = (test.manufacturer.isnull()) & (test.model == 'Suzuki SX4')\n",
    "test.loc[mask, 'manufacturer'] = 'suzuki'\n",
    "\n",
    "mask = (train.manufacturer.isnull()) & (train.model == 'Suzuki SX4 Sport Sedan')\n",
    "train.loc[mask, 'manufacturer'] = 'suzuki'\n",
    "mask = (test.manufacturer.isnull()) & (test.model == 'Suzuki SX4 Sport Sedan')\n",
    "test.loc[mask, 'manufacturer'] = 'suzuki'\n",
    "\n",
    "mask = (train.manufacturer.isnull()) & (train.model == '2011 SUZUKI GRAND VITARA')\n",
    "train.loc[mask, 'manufacturer'] = 'suzuki'\n",
    "mask = (test.manufacturer.isnull()) & (test.model == '2011 SUZUKI GRAND VITARA')\n",
    "test.loc[mask, 'manufacturer'] = 'suzuki'\n",
    "\n",
    "mask = (train.manufacturer.isnull()) & ((train.model == 'isuzu rodeo')|(train.model == 'Isuzu NPR HD REG'))\n",
    "train.loc[mask, 'manufacturer'] = 'isuzu'\n",
    "mask = (test.manufacturer.isnull()) & ((test.model == 'isuzu rodeo')|(test.model == 'Isuzu NPR HD REG'))\n",
    "test.loc[mask, 'manufacturer'] = 'isuzu'\n",
    "\n",
    "mask = (train.manufacturer.isnull()) & (train.model == 'Isuzu NPR HD')\n",
    "train.loc[mask, 'manufacturer'] = 'isuzu'\n",
    "mask = (test.manufacturer.isnull()) & (test.model == 'Isuzu NPR HD')\n",
    "test.loc[mask, 'manufacturer'] = 'isuzu'\n",
    "\n",
    "mask = (train.manufacturer.isnull()) & (train.model == 'suzuki aerio')\n",
    "train.loc[mask, 'manufacturer'] = 'suzuki'\n",
    "mask = (test.manufacturer.isnull()) & (test.model == 'suzuki aerio')\n",
    "test.loc[mask, 'manufacturer'] = 'suzuki'\n",
    "\n",
    "mask = (train.manufacturer.isnull()) & (train.model == 'Suzuki Grand Vitara')\n",
    "train.loc[mask, 'manufacturer'] = 'suzuki'\n",
    "mask = (test.manufacturer.isnull()) & (test.model == 'Suzuki Grand Vitara')\n",
    "test.loc[mask, 'manufacturer'] = 'suzuki'\n",
    "\n",
    "mask = (train.manufacturer.isnull()) & (train.model == 'Genesis G70 3.3T Advanced Sedan')\n",
    "train.loc[mask, 'manufacturer'] = 'genesis'\n",
    "mask = (test.manufacturer.isnull()) & (test.model == 'Genesis G70 3.3T Advanced Sedan')\n",
    "test.loc[mask, 'manufacturer'] = 'genesis'\n",
    "\n",
    "mask = (train.manufacturer.isnull()) & (train.model == 'Genesis G80 3.8 Sedan 4D')\n",
    "train.loc[mask, 'manufacturer'] = 'genesis'\n",
    "mask = (test.manufacturer.isnull()) & (test.model == 'Genesis G80 3.8 Sedan 4D')\n",
    "test.loc[mask, 'manufacturer'] = 'genesis'\n",
    "\n",
    "mask = (train.manufacturer.isnull()) & ((train.model == 'Genesis G70 2.0T Advanced Sedan')|(train.model == 'Genesis G70 3.3T Dynamic Edition'))\n",
    "train.loc[mask, 'manufacturer'] = 'genesis'\n",
    "mask = (test.manufacturer.isnull()) & ((test.model == 'Genesis G70 2.0T Advanced Sedan')|(test.model == 'Genesis G70 3.3T Dynamic Edition'))\n",
    "test.loc[mask, 'manufacturer'] = 'genesis'\n",
    "\n",
    "mask = (train.manufacturer.isnull()) & (train.model == 'Genesis G80 3.8 automatic')\n",
    "train.loc[mask, 'manufacturer'] = 'genesis'\n",
    "mask = (test.manufacturer.isnull()) & (test.model == 'Genesis G80 3.8 automatic')\n",
    "test.loc[mask, 'manufacturer'] = 'genesis'\n",
    "\n",
    "mask = (train.manufacturer.isnull()) & (train.model == 'Genesis G70 3.3T Sedan 4D')\n",
    "train.loc[mask, 'manufacturer'] = 'genesis'\n",
    "mask = (test.manufacturer.isnull()) & (test.model == 'Genesis G70 3.3T Sedan 4D')\n",
    "test.loc[mask, 'manufacturer'] = 'genesis'\n",
    "\n",
    "mask = (train.manufacturer.isnull()) & (train.model == 'HUDSON Convertible')\n",
    "train.loc[mask, 'manufacturer'] = 'hudson'\n",
    "mask = (test.manufacturer.isnull()) & (test.model == 'HUDSON Convertible')\n",
    "test.loc[mask, 'manufacturer'] = 'hudson'\n",
    "\n",
    "mask = (train.manufacturer.isnull()) & ((train.model == 'Scion iM Hatchback 4D')|(train.model == 'Scion FR-S'))\n",
    "train.loc[mask, 'manufacturer'] = 'scion'\n",
    "mask = (test.manufacturer.isnull()) & ((test.model == 'Scion iM Hatchback 4D')|(test.model == 'Scion FR-S'))\n",
    "test.loc[mask, 'manufacturer'] = 'scion'\n",
    "\n",
    "mask = (train.manufacturer.isnull()) & ((train.model == '2013 scion fr-s')|(train.model == 'scion xa')|(train.model == 'scion xd')|(train.model == 'Scion FR-S Coupe 2D'))\n",
    "train.loc[mask, 'manufacturer'] = 'scion'\n",
    "mask = (test.manufacturer.isnull()) &((test.model == '2013 scion fr-s')|(test.model == 'scion xa')|(test.model == 'scion xd')|(test.model == 'Scion FR-S Coupe 2D'))\n",
    "test.loc[mask, 'manufacturer'] = 'Scion'\n",
    "\n",
    "mask = (train.manufacturer.isnull()) & (train.model == '2009 f350')\n",
    "train.loc[mask, 'manufacturer'] = 'ford'\n",
    "mask = (test.manufacturer.isnull()) & (test.model == '2009 f350')\n",
    "test.loc[mask, 'manufacturer'] = 'ford'\n",
    "\n",
    "mask = (train.manufacturer.isnull()) & ((train.model == 'BLUE BIRD BLUE BIRD')|(train.model == 'Blue Bird All American'))\n",
    "train.loc[mask, 'manufacturer'] = 'blue bird'\n",
    "mask = (test.manufacturer.isnull()) & ((test.model == 'BLUE BIRD BLUE BIRD')|(train.model == 'Blue Bird All American'))\n",
    "test.loc[mask, 'manufacturer'] = 'blue bird'\n",
    "\n",
    "mask = (train.manufacturer.isnull()) & ((train.model == 'hummer h2')|(train.model == 'hummer h2 luxury')|(train.model == 'HUMMER H3'))\n",
    "train.loc[mask, 'manufacturer'] = 'general motors'\n",
    "mask = (test.manufacturer.isnull()) & ((test.model == 'hummer h2')|(test.model == 'hummer h2 luxury')|(test.model == 'HUMMER H3'))\n",
    "test.loc[mask, 'manufacturer'] = 'general motors'\n",
    "\n",
    "mask = (train.manufacturer.isnull()) & (train.model == 'saab 9-3')\n",
    "train.loc[mask, 'manufacturer'] = 'saab'\n",
    "mask = (test.manufacturer.isnull()) & (test.model == 'saab 9-3')\n",
    "test.loc[mask, 'manufacturer'] = 'saab'\n",
    "\n",
    "mask = (train.manufacturer.isnull()) & ((train.model == 'mack')|(train.model == 'Mack Mack Granite Plow/Dump Truck W/Sander'))\n",
    "train.loc[mask, 'manufacturer'] = 'mack'\n",
    "mask = (test.manufacturer.isnull()) & ((test.model == 'mack')|(test.model == 'Mack Mack Granite Plow/Dump Truck W/Sander'))\n",
    "test.loc[mask, 'manufacturer'] = 'mack'\n",
    "\n",
    "mask = (train.manufacturer.isnull()) & (train.model == 'smart fortwo Passion Hatchback')\n",
    "train.loc[mask, 'manufacturer'] = 'mercedes-benz'\n",
    "mask = (test.manufacturer.isnull()) & (test.model == 'smart fortwo Passion Hatchback')\n",
    "test.loc[mask, 'manufacturer'] = 'mercedes-benz'\n",
    "\n",
    "mask = (train.manufacturer.isnull()) & (train.model == 'plymouth barracuda')\n",
    "train.loc[mask, 'manufacturer'] = 'plymouth'\n",
    "mask = (test.manufacturer.isnull()) & (test.model == 'plymouth barracuda')\n",
    "test.loc[mask, 'manufacturer'] = 'plymouth'\n",
    "\n",
    "mask = (train.manufacturer.isnull()) & (train.model == 'Toyoya RAV4')\n",
    "train.loc[mask, 'manufacturer'] = 'toyota'\n",
    "mask = (test.manufacturer.isnull()) & (test.model == 'Toyoya RAV4')\n",
    "test.loc[mask, 'manufacturer'] = 'toyota'\n",
    "\n",
    "mask = (train.manufacturer.isnull()) & (train.model == 'Toyoa pickup')\n",
    "train.loc[mask, 'manufacturer'] = 'toyota'\n",
    "mask = (test.manufacturer.isnull()) & (test.model == 'Toyoa pickup')\n",
    "test.loc[mask, 'manufacturer'] = 'toyota'\n",
    "\n",
    "mask = (train.manufacturer.isnull()) & (train.model == 'peterbilt')|(train.model == 'Peterbilt 379 EXHD')\n",
    "train.loc[mask, 'manufacturer'] = 'peterbilt'\n",
    "mask = (test.manufacturer.isnull()) & ((test.model == 'peterbilt')|(test.model == 'Peterbilt 379 EXHD'))\n",
    "test.loc[mask, 'manufacturer'] = 'peterbilt'\n",
    "\n",
    "mask = (train.manufacturer.isnull()) & ((train.model == 'CHEC MALIBU LS')|(train.model == 'Chevrolet-3RD ROW! LOCAL TRADE! Venture-$2995!!! PLUS TAX N TAG NDOC!') )\n",
    "train.loc[mask, 'manufacturer'] = 'chevrolet'\n",
    "mask = (test.manufacturer.isnull()) & (test.model == 'CHEC MALIBU LS')|(test.model == 'Chevrolet-3RD ROW! LOCAL TRADE! Venture-$2995!!! PLUS TAX N TAG NDOC!')\n",
    "test.loc[mask, 'manufacturer'] = 'chevrolet'\n",
    "\n",
    "mask = (train.manufacturer.isnull()) & (train.model == 'kenworth t660') \n",
    "train.loc[mask, 'manufacturer'] = 'kenworth'\n",
    "mask = (test.manufacturer.isnull()) & (test.model == 'kenworth t660')\n",
    "test.loc[mask, 'manufacturer'] = 'kenworth'\n",
    "\n",
    "mask = (train.manufacturer.isnull()) & (train.model == 'Oldsmobile Bravada') \n",
    "train.loc[mask, 'manufacturer'] = 'general motors'\n",
    "mask = (test.manufacturer.isnull()) & (test.model == 'Oldsmobile Bravada')\n",
    "test.loc[mask, 'manufacturer'] = 'general motors'\n",
    "\n",
    "mask = (train.manufacturer.isnull()) & (train.model == 'LEXUS* LS*') \n",
    "train.loc[mask, 'manufacturer'] = 'lexus'\n",
    "mask = (test.manufacturer.isnull()) & (test.model == 'LEXUS* LS*')\n",
    "test.loc[mask, 'manufacturer'] = 'lexus'\n",
    "\n",
    "mask = (train.manufacturer.isnull()) & (train.model == 'Maserati Quattroporte') \n",
    "train.loc[mask, 'manufacturer'] = 'maserati'\n",
    "mask = (test.manufacturer.isnull()) & (test.model == 'Maserati Quattroporte')\n",
    "test.loc[mask, 'manufacturer'] = 'maserati'\n",
    "\n",
    "mask = (train.manufacturer.isnull()) & (train.model == 'ACRUA TL') \n",
    "train.loc[mask, 'manufacturer'] = 'honda'\n",
    "mask = (test.manufacturer.isnull()) & (test.model == 'ACRUA TL')\n",
    "test.loc[mask, 'manufacturer'] = 'honda'\n",
    "\n",
    "mask = (train.manufacturer.isnull()) & (train.model == 'any') & (train.type == 'mini van')\n",
    "train.loc[mask, 'manufacturer'] = 'chevrolet'\n",
    "mask = (test.manufacturer.isnull()) & (test.model == 'any') & (test.type == 'mini van')\n",
    "test.loc[mask, 'manufacturer'] = 'chevrolet'\n",
    "mask = (train.manufacturer.isnull()) & (train.model == 'hino 258')\n",
    "train.loc[mask, 'manufacturer'] = 'hino'\n",
    "mask = (test.manufacturer.isnull()) & (test.model == 'hino 258')\n",
    "test.loc[mask, 'manufacturer'] = 'hion'\n",
    "\n",
    "mask = (train.manufacturer.isnull()) & (train.model == 'GMC* SIERRA')\n",
    "train.loc[mask, 'manufacturer'] = 'gmc'\n",
    "mask = (test.manufacturer.isnull()) & (test.model == 'GMC* SIERRA')\n",
    "test.loc[mask, 'manufacturer'] = 'gmc'"
   ]
  },
  {
   "cell_type": "code",
   "execution_count": 14,
   "id": "9d6d516d",
   "metadata": {},
   "outputs": [
    {
     "data": {
      "text/plain": [
       "\"null_manufacturer_rows = train[train['manufacturer'].isnull()]\\n\\nmodel_value_counts = null_manufacturer_rows['model'].value_counts()\\n\\nunique_models = model_value_counts[model_value_counts == 1].index\\n\\ntrain.drop(train[train['model'].isin(unique_models)].index, inplace=True)\\ntrain.reset_index(drop=True, inplace=True)  \""
      ]
     },
     "execution_count": 14,
     "metadata": {},
     "output_type": "execute_result"
    }
   ],
   "source": [
    "# handle manufacturer which is null and  has one counts (drop them)\n",
    "'''null_manufacturer_rows = train[train['manufacturer'].isnull()]\n",
    "\n",
    "model_value_counts = null_manufacturer_rows['model'].value_counts()\n",
    "\n",
    "unique_models = model_value_counts[model_value_counts == 1].index\n",
    "\n",
    "train.drop(train[train['model'].isin(unique_models)].index, inplace=True)\n",
    "train.reset_index(drop=True, inplace=True)  '''          "
   ]
  },
  {
   "cell_type": "code",
   "execution_count": 15,
   "id": "e5e77d17",
   "metadata": {},
   "outputs": [],
   "source": [
    "\n",
    "null_manufacturer_rows = train[train['manufacturer'].isnull()]\n",
    "\n",
    "\n",
    "first_word_model_lower = null_manufacturer_rows['model'].str.split(' ', n=1).str[0]\n",
    "\n",
    "is_model = (first_word_model_lower.str.startswith('ISUZU'))|(first_word_model_lower.str.startswith('Isuzu'))|(first_word_model_lower.str.startswith('isuzu'))\n",
    "train.loc[null_manufacturer_rows[is_model].index, 'manufacturer'] = 'isuzu'\n",
    "\n",
    "is_model = (first_word_model_lower.str.startswith('Genesis'))|(first_word_model_lower.str.startswith('genesis'))|(first_word_model_lower.str.startswith('GENESIS'))\n",
    "train.loc[null_manufacturer_rows[is_model].index, 'manufacturer'] = 'genesis'\n",
    "\n",
    "is_model = (first_word_model_lower.str.startswith('Smart'))|(first_word_model_lower.str.startswith('smart'))|(first_word_model_lower.str.startswith('SMART'))\n",
    "train.loc[null_manufacturer_rows[is_model].index, 'manufacturer'] = 'mercedes-benz'\n",
    "\n",
    "is_model = (first_word_model_lower.str.startswith('GMC*'))|(first_word_model_lower.str.startswith('GMC'))|(first_word_model_lower.str.startswith('gms'))\n",
    "train.loc[null_manufacturer_rows[is_model].index, 'manufacturer'] = 'gmc'\n",
    "\n",
    "is_model = (first_word_model_lower.str.startswith('2011'))|(first_word_model_lower.str.startswith('2015'))|(first_word_model_lower.str.startswith('Suzuki'))|(first_word_model_lower.str.startswith('suzuki'))\n",
    "train.loc[null_manufacturer_rows[is_model].index, 'manufacturer'] = 'suzuki'\n",
    "\n",
    "is_model = (first_word_model_lower.str.startswith('Freightliner'))\n",
    "train.loc[null_manufacturer_rows[is_model].index, 'manufacturer'] = 'dtna'\n",
    "\n",
    "is_model = (first_word_model_lower.str.startswith('Maserati'))\n",
    "train.loc[null_manufacturer_rows[is_model].index, 'manufacturer'] = 'maserati'\n",
    "\n",
    "is_model = (first_word_model_lower.str.startswith('INTERNATIONAL'))|(first_word_model_lower.str.startswith('International'))|(first_word_model_lower.str.startswith('international'))\n",
    "train.loc[null_manufacturer_rows[is_model].index, 'manufacturer'] = 'navistar'\n",
    "\n",
    "is_model = (first_word_model_lower.str.startswith('kenworth'))|(first_word_model_lower.str.startswith('Kenworth'))|(first_word_model_lower.str.startswith('KENWORTH'))\n",
    "train.loc[null_manufacturer_rows[is_model].index, 'manufacturer'] = 'kenworth'\n",
    "\n",
    "is_model = (first_word_model_lower.str.startswith('hino'))|(first_word_model_lower.str.startswith('Hino'))|(first_word_model_lower.str.startswith('HINO'))\n",
    "train.loc[null_manufacturer_rows[is_model].index, 'manufacturer'] = 'hino'\n",
    "\n",
    "is_model = (first_word_model_lower.str.startswith('hudson'))|(first_word_model_lower.str.startswith('Hudson'))|(first_word_model_lower.str.startswith('HUDSON'))\n",
    "train.loc[null_manufacturer_rows[is_model].index, 'manufacturer'] = 'hudson'\n",
    "\n",
    "is_model = (first_word_model_lower.str.startswith('scion'))|(first_word_model_lower.str.startswith('Scion'))|(first_word_model_lower.str.startswith('SCION'))\n",
    "train.loc[null_manufacturer_rows[is_model].index, 'manufacturer'] = 'scion'\n",
    "\n",
    "is_model = (first_word_model_lower.str.startswith('Hummer'))|(first_word_model_lower.str.startswith('hummer'))|(first_word_model_lower.str.startswith('HUMMER'))\n",
    "train.loc[null_manufacturer_rows[is_model].index, 'manufacturer'] = 'gmc'\n",
    "\n",
    "is_model = (first_word_model_lower.str.startswith('Blue'))|(first_word_model_lower.str.startswith('blue'))|(first_word_model_lower.str.startswith('BLUE'))\n",
    "train.loc[null_manufacturer_rows[is_model].index, 'manufacturer'] = 'blue bird'\n",
    "\n",
    "is_model = (first_word_model_lower.str.startswith('Toyoa'))|(first_word_model_lower.str.startswith('Toyota'))|(first_word_model_lower.str.startswith('toyota'))|(first_word_model_lower.str.startswith('TOYOTA'))\n",
    "train.loc[null_manufacturer_rows[is_model].index, 'manufacturer'] = 'blue bird'\n",
    "\n",
    "is_model = (first_word_model_lower.str.startswith('Silverado'))|(first_word_model_lower.str.startswith('silverado'))|(first_word_model_lower.str.startswith('silverado'))\n",
    "train.loc[null_manufacturer_rows[is_model].index, 'manufacturer'] = 'chevrolet'\n",
    "\n",
    "is_model = (first_word_model_lower.str.startswith('chevrolet'))|(first_word_model_lower.str.startswith('Chevrolet'))|(first_word_model_lower.str.startswith('CHEVROLET'))\n",
    "train.loc[null_manufacturer_rows[is_model].index, 'manufacturer'] = 'chevrolet'\n",
    "\n",
    "is_model = (first_word_model_lower.str.startswith('MACK'))|(first_word_model_lower.str.startswith('Mack'))|(first_word_model_lower.str.startswith('mack'))\n",
    "train.loc[null_manufacturer_rows[is_model].index, 'manufacturer'] = 'mack'\n",
    "\n",
    "is_model = (first_word_model_lower.str.startswith('ford'))|(first_word_model_lower.str.startswith('Ford'))|(first_word_model_lower.str.startswith('FORD'))\n",
    "train.loc[null_manufacturer_rows[is_model].index, 'manufacturer'] = 'ford'\n",
    "\n",
    "is_model = (first_word_model_lower.str.startswith('jeep'))|(first_word_model_lower.str.startswith('Jeep'))|(first_word_model_lower.str.startswith('JEEP'))\n",
    "train.loc[null_manufacturer_rows[is_model].index, 'manufacturer'] = 'jeep'\n",
    "\n",
    "is_model = (first_word_model_lower.str.startswith('nissan'))|(first_word_model_lower.str.startswith('Nissan'))|(first_word_model_lower.str.startswith('NISSAN'))\n",
    "train.loc[null_manufacturer_rows[is_model].index, 'manufacturer'] = 'nissan'\n",
    "\n",
    "is_model = (first_word_model_lower.str.startswith('honda'))|(first_word_model_lower.str.startswith('Honda'))|(first_word_model_lower.str.startswith('HONDA'))\n",
    "train.loc[null_manufacturer_rows[is_model].index, 'manufacturer'] = 'honda'\n",
    "\n",
    "is_model = (first_word_model_lower.str.startswith('ram'))|(first_word_model_lower.str.startswith('RAM'))|(first_word_model_lower.str.startswith('Ram'))\n",
    "train.loc[null_manufacturer_rows[is_model].index, 'manufacturer'] = 'ram'\n",
    "\n",
    "is_model = (first_word_model_lower.str.startswith('bmw'))|(first_word_model_lower.str.startswith('BMW'))\n",
    "train.loc[null_manufacturer_rows[is_model].index, 'manufacturer'] = 'bmw'\n",
    "\n",
    "is_model = (first_word_model_lower.str.startswith('saab'))|(first_word_model_lower.str.startswith('SAAB'))|(first_word_model_lower.str.startswith('Saab'))\n",
    "train.loc[null_manufacturer_rows[is_model].index, 'manufacturer'] = 'saab'\n",
    "\n",
    "is_model = (first_word_model_lower.str.startswith('subaru'))|(first_word_model_lower.str.startswith('Subaru'))|(first_word_model_lower.str.startswith('SUBARU'))\n",
    "train.loc[null_manufacturer_rows[is_model].index, 'manufacturer'] = 'subaru'\n",
    "\n",
    "is_model = (first_word_model_lower.str.startswith('dodge'))|(first_word_model_lower.str.startswith('Dodge'))|(first_word_model_lower.str.startswith('DODGE'))\n",
    "train.loc[null_manufacturer_rows[is_model].index, 'manufacturer'] = 'dodge'\n",
    "\n",
    "is_model = (first_word_model_lower.str.startswith('mazda'))|(first_word_model_lower.str.startswith('Mazda'))|(first_word_model_lower.str.startswith('MAZDA'))\n",
    "train.loc[null_manufacturer_rows[is_model].index, 'manufacturer'] = 'mazda'\n",
    "\n",
    "is_model = (first_word_model_lower.str.startswith('lexus'))|(first_word_model_lower.str.startswith('Lexus'))|(first_word_model_lower.str.startswith('LEXUS'))\n",
    "train.loc[null_manufacturer_rows[is_model].index, 'manufacturer'] = 'lexus'\n",
    "\n",
    "is_model = (first_word_model_lower.str.startswith('tesla'))|(first_word_model_lower.str.startswith('Tesla'))|(first_word_model_lower.str.startswith('TESLA'))\n",
    "train.loc[null_manufacturer_rows[is_model].index, 'manufacturer'] = 'tesla'"
   ]
  },
  {
   "cell_type": "code",
   "execution_count": 16,
   "id": "d8a5b115",
   "metadata": {},
   "outputs": [],
   "source": [
    "\n",
    "null_manufacturer_rows = test[test['manufacturer'].isnull()]\n",
    "\n",
    "first_word_model_lower = null_manufacturer_rows['model'].str.split(' ', n=1).str[0]\n",
    "\n",
    "\n",
    "is_model = (first_word_model_lower.str.startswith('ISUZU'))|(first_word_model_lower.str.startswith('Isuzu'))|(first_word_model_lower.str.startswith('isuzu'))\n",
    "test.loc[null_manufacturer_rows[is_model].index, 'manufacturer'] = 'isuzu'\n",
    "\n",
    "is_model = (first_word_model_lower.str.startswith('Genesis'))|(first_word_model_lower.str.startswith('genesis'))|(first_word_model_lower.str.startswith('GENESIS'))\n",
    "test.loc[null_manufacturer_rows[is_model].index, 'manufacturer'] = 'genesis'\n",
    "\n",
    "is_model = (first_word_model_lower.str.startswith('Smart'))|(first_word_model_lower.str.startswith('smart'))|(first_word_model_lower.str.startswith('SMART'))\n",
    "test.loc[null_manufacturer_rows[is_model].index, 'manufacturer'] = 'mercedes-benz'\n",
    "\n",
    "is_model = (first_word_model_lower.str.startswith('GMC*'))|(first_word_model_lower.str.startswith('GMC'))|(first_word_model_lower.str.startswith('gms'))\n",
    "test.loc[null_manufacturer_rows[is_model].index, 'manufacturer'] = 'gmc'\n",
    "\n",
    "is_model = (first_word_model_lower.str.startswith('2011'))|(first_word_model_lower.str.startswith('2015'))|(first_word_model_lower.str.startswith('Suzuki'))|(first_word_model_lower.str.startswith('suzuki'))\n",
    "test.loc[null_manufacturer_rows[is_model].index, 'manufacturer'] = 'suzuki'\n",
    "\n",
    "is_model = (first_word_model_lower.str.startswith('Freightliner'))\n",
    "test.loc[null_manufacturer_rows[is_model].index, 'manufacturer'] = 'dtna'\n",
    "\n",
    "is_model = (first_word_model_lower.str.startswith('Maserati'))\n",
    "test.loc[null_manufacturer_rows[is_model].index, 'manufacturer'] = 'maserati'\n",
    "\n",
    "is_model = (first_word_model_lower.str.startswith('INTERNATIONAL'))|(first_word_model_lower.str.startswith('International'))|(first_word_model_lower.str.startswith('international'))\n",
    "test.loc[null_manufacturer_rows[is_model].index, 'manufacturer'] = 'navistar'\n",
    "\n",
    "is_model = (first_word_model_lower.str.startswith('kenworth'))|(first_word_model_lower.str.startswith('Kenworth'))|(first_word_model_lower.str.startswith('KENWORTH'))\n",
    "test.loc[null_manufacturer_rows[is_model].index, 'manufacturer'] = 'kenworth'\n",
    "\n",
    "is_model = (first_word_model_lower.str.startswith('hino'))|(first_word_model_lower.str.startswith('Hino'))|(first_word_model_lower.str.startswith('HINO'))\n",
    "test.loc[null_manufacturer_rows[is_model].index, 'manufacturer'] = 'hino'\n",
    "\n",
    "is_model = (first_word_model_lower.str.startswith('hudson'))|(first_word_model_lower.str.startswith('Hudson'))|(first_word_model_lower.str.startswith('HUDSON'))\n",
    "test.loc[null_manufacturer_rows[is_model].index, 'manufacturer'] = 'hudson'\n",
    "\n",
    "is_model = (first_word_model_lower.str.startswith('scion'))|(first_word_model_lower.str.startswith('Scion'))|(first_word_model_lower.str.startswith('SCION'))\n",
    "test.loc[null_manufacturer_rows[is_model].index, 'manufacturer'] = 'scion'\n",
    "\n",
    "is_model = (first_word_model_lower.str.startswith('Hummer'))|(first_word_model_lower.str.startswith('hummer'))|(first_word_model_lower.str.startswith('HUMMER'))\n",
    "test.loc[null_manufacturer_rows[is_model].index, 'manufacturer'] = 'gmc'\n",
    "\n",
    "is_model = (first_word_model_lower.str.startswith('Blue'))|(first_word_model_lower.str.startswith('blue'))|(first_word_model_lower.str.startswith('BLUE'))\n",
    "test.loc[null_manufacturer_rows[is_model].index, 'manufacturer'] = 'blue bird'\n",
    "\n",
    "is_model = (first_word_model_lower.str.startswith('Toyoa'))|(first_word_model_lower.str.startswith('Toyota'))|(first_word_model_lower.str.startswith('toyota'))|(first_word_model_lower.str.startswith('TOYOTA'))\n",
    "test.loc[null_manufacturer_rows[is_model].index, 'manufacturer'] = 'blue bird'\n",
    "\n",
    "is_model = (first_word_model_lower.str.startswith('Silverado'))|(first_word_model_lower.str.startswith('silverado'))|(first_word_model_lower.str.startswith('silverado'))\n",
    "test.loc[null_manufacturer_rows[is_model].index, 'manufacturer'] = 'chevrolet'\n",
    "\n",
    "is_model = (first_word_model_lower.str.startswith('chevrolet'))|(first_word_model_lower.str.startswith('Chevrolet'))|(first_word_model_lower.str.startswith('CHEVROLET'))\n",
    "test.loc[null_manufacturer_rows[is_model].index, 'manufacturer'] = 'chevrolet'\n",
    "\n",
    "is_model = (first_word_model_lower.str.startswith('MACK'))|(first_word_model_lower.str.startswith('Mack'))|(first_word_model_lower.str.startswith('mack'))\n",
    "test.loc[null_manufacturer_rows[is_model].index, 'manufacturer'] = 'mack'\n",
    "\n",
    "is_model = (first_word_model_lower.str.startswith('ford'))|(first_word_model_lower.str.startswith('Ford'))|(first_word_model_lower.str.startswith('FORD'))\n",
    "test.loc[null_manufacturer_rows[is_model].index, 'manufacturer'] = 'ford'\n",
    "\n",
    "is_model = (first_word_model_lower.str.startswith('jeep'))|(first_word_model_lower.str.startswith('Jeep'))|(first_word_model_lower.str.startswith('JEEP'))\n",
    "test.loc[null_manufacturer_rows[is_model].index, 'manufacturer'] = 'jeep'\n",
    "\n",
    "is_model = (first_word_model_lower.str.startswith('nissan'))|(first_word_model_lower.str.startswith('Nissan'))|(first_word_model_lower.str.startswith('NISSAN'))\n",
    "test.loc[null_manufacturer_rows[is_model].index, 'manufacturer'] = 'nissan'\n",
    "\n",
    "is_model = (first_word_model_lower.str.startswith('honda'))|(first_word_model_lower.str.startswith('Honda'))|(first_word_model_lower.str.startswith('HONDA'))\n",
    "test.loc[null_manufacturer_rows[is_model].index, 'manufacturer'] = 'honda'\n",
    "\n",
    "is_model = (first_word_model_lower.str.startswith('ram'))|(first_word_model_lower.str.startswith('RAM'))|(first_word_model_lower.str.startswith('Ram'))\n",
    "test.loc[null_manufacturer_rows[is_model].index, 'manufacturer'] = 'ram'\n",
    "\n",
    "is_model = (first_word_model_lower.str.startswith('bmw'))|(first_word_model_lower.str.startswith('BMW'))\n",
    "test.loc[null_manufacturer_rows[is_model].index, 'manufacturer'] = 'bmw'\n",
    "\n",
    "is_model = (first_word_model_lower.str.startswith('saab'))|(first_word_model_lower.str.startswith('SAAB'))|(first_word_model_lower.str.startswith('Saab'))\n",
    "test.loc[null_manufacturer_rows[is_model].index, 'manufacturer'] = 'saab'\n",
    "\n",
    "is_model = (first_word_model_lower.str.startswith('subaru'))|(first_word_model_lower.str.startswith('Subaru'))|(first_word_model_lower.str.startswith('SUBARU'))\n",
    "test.loc[null_manufacturer_rows[is_model].index, 'manufacturer'] = 'subaru'\n",
    "\n",
    "is_model = (first_word_model_lower.str.startswith('dodge'))|(first_word_model_lower.str.startswith('Dodge'))|(first_word_model_lower.str.startswith('DODGE'))\n",
    "test.loc[null_manufacturer_rows[is_model].index, 'manufacturer'] = 'dodge'\n",
    "\n",
    "is_model = (first_word_model_lower.str.startswith('mazda'))|(first_word_model_lower.str.startswith('Mazda'))|(first_word_model_lower.str.startswith('MAZDA'))\n",
    "test.loc[null_manufacturer_rows[is_model].index, 'manufacturer'] = 'mazda'\n",
    "\n",
    "is_model = (first_word_model_lower.str.startswith('lexus'))|(first_word_model_lower.str.startswith('Lexus'))|(first_word_model_lower.str.startswith('LEXUS'))\n",
    "test.loc[null_manufacturer_rows[is_model].index, 'manufacturer'] = 'lexus'\n",
    "\n",
    "is_model = (first_word_model_lower.str.startswith('tesla'))|(first_word_model_lower.str.startswith('Tesla'))|(first_word_model_lower.str.startswith('TESLA'))\n",
    "test.loc[null_manufacturer_rows[is_model].index, 'manufacturer'] = 'tesla'"
   ]
  },
  {
   "cell_type": "code",
   "execution_count": 17,
   "id": "5b0c4219",
   "metadata": {},
   "outputs": [],
   "source": [
    "train['manufacturer'] = train['manufacturer'].replace('general motors', 'gmc')\n",
    "train['manufacturer'] = train['manufacturer'].replace('land rover', 'rover')\n",
    "test['manufacturer'] = test['manufacturer'].replace('general motors', 'gmc')\n",
    "test['manufacturer'] = test['manufacturer'].replace('land rover', 'rover')"
   ]
  },
  {
   "cell_type": "code",
   "execution_count": 18,
   "id": "92542c9f",
   "metadata": {},
   "outputs": [
    {
     "data": {
      "text/plain": [
       "(6105, 2628)"
      ]
     },
     "execution_count": 18,
     "metadata": {},
     "output_type": "execute_result"
    }
   ],
   "source": [
    "train.manufacturer.isnull().sum(),test.manufacturer.isnull().sum()"
   ]
  },
  {
   "cell_type": "markdown",
   "id": "e1f6eead",
   "metadata": {},
   "source": [
    "**filling the remaining null values by mode**"
   ]
  },
  {
   "cell_type": "code",
   "execution_count": 19,
   "id": "e2cf4eaf",
   "metadata": {},
   "outputs": [],
   "source": [
    "manu_mode = train['manufacturer'].mode()[0]\n",
    "train.loc[(train['manufacturer'].isnull()), 'manufacturer'] = manu_mode\n",
    "\n",
    "manu_mode = test['manufacturer'].mode()[0]\n",
    "test.loc[(test['manufacturer'].isnull()), 'manufacturer'] = manu_mode"
   ]
  },
  {
   "cell_type": "code",
   "execution_count": 20,
   "id": "15a39f6c",
   "metadata": {},
   "outputs": [
    {
     "data": {
      "text/plain": [
       "(0, 0)"
      ]
     },
     "execution_count": 20,
     "metadata": {},
     "output_type": "execute_result"
    }
   ],
   "source": [
    "train.manufacturer.isnull().sum(),test.manufacturer.isnull().sum()"
   ]
  },
  {
   "cell_type": "code",
   "execution_count": null,
   "id": "2a4bb5e3",
   "metadata": {},
   "outputs": [],
   "source": [
    "plt.figure(figsize=(12,10))\n",
    "sns.countplot(x=train.manufacturer)\n",
    "plt.xlabel(\"Count\")\n",
    "plt.ylabel(\"Manufacturer\")\n",
    "plt.title(\"Train Manufacturer frequency\")\n",
    "plt.xticks(rotation=90)\n",
    "plt.show"
   ]
  },
  {
   "cell_type": "code",
   "execution_count": 21,
   "id": "aa8d0110",
   "metadata": {},
   "outputs": [],
   "source": [
    "manufacturer_counts = train['manufacturer'].value_counts()\n",
    "\n",
    "# Get the list of manufacturers with counts less than 1000\n",
    "manufacturers_to_replace = manufacturer_counts[manufacturer_counts < 5000].index.tolist()\n",
    "\n",
    "# Replace 'manufacturer' values with counts less than 1000 with 'other'\n",
    "train.loc[train['manufacturer'].isin(manufacturers_to_replace), 'manufacturer'] = 'other'\n",
    "\n",
    "###########################################################\n",
    "manufacturer_counts = test['manufacturer'].value_counts()\n",
    "\n",
    "# Get the list of manufacturers with counts less than 1000\n",
    "manufacturers_to_replace = manufacturer_counts[manufacturer_counts < 5000].index.tolist()\n",
    "\n",
    "# Replace 'manufacturer' values with counts less than 1000 with 'other'\n",
    "test.loc[test['manufacturer'].isin(manufacturers_to_replace), 'manufacturer'] = 'other'"
   ]
  },
  {
   "cell_type": "code",
   "execution_count": null,
   "id": "1d77e6a4",
   "metadata": {},
   "outputs": [],
   "source": [
    "plt.figure(figsize=(10,3))\n",
    "sns.countplot(x=train.manufacturer)\n",
    "plt.xlabel(\"Manufacturer\")\n",
    "plt.ylabel(\"count\")\n",
    "plt.title(\"Train Manufacturer frequency\")\n",
    "plt.xticks(rotation=90)\n",
    "plt.show"
   ]
  },
  {
   "cell_type": "markdown",
   "id": "7773928a",
   "metadata": {},
   "source": [
    "## percentage of missing values"
   ]
  },
  {
   "cell_type": "code",
   "execution_count": null,
   "id": "026c53f8",
   "metadata": {},
   "outputs": [],
   "source": [
    "train.isnull().sum()"
   ]
  },
  {
   "cell_type": "code",
   "execution_count": null,
   "id": "7c984910",
   "metadata": {},
   "outputs": [],
   "source": [
    "nulls_df = pd.DataFrame(train.isnull().sum()[train.isnull().sum() != 0])\n",
    "nulls_df['%null'] =  (nulls_df[0] / train.shape[0]) * 100\n",
    "ax = nulls_df['%null'].plot(kind='bar', figsize=(8, 5))\n",
    "\n",
    "import matplotlib.ticker as mtick\n",
    "ax.yaxis.set_major_formatter(mtick.PercentFormatter())\n",
    "plt.title('Percentage of Null values in variables', fontsize=15)\n",
    "plt.xlabel('Variables with null valuses', fontsize=15)\n",
    "plt.ylabel('% null', fontsize=15)"
   ]
  },
  {
   "cell_type": "code",
   "execution_count": null,
   "id": "e8d80761",
   "metadata": {},
   "outputs": [],
   "source": [
    "\n",
    "nulls_df = pd.DataFrame(test.isnull().sum()[test.isnull().sum() != 0])\n",
    "nulls_df['%null'] =  (nulls_df[0] / test.shape[0]) * 100\n",
    "ax = nulls_df['%null'].plot(kind='bar', figsize=(8, 5))\n",
    "\n",
    "import matplotlib.ticker as mtick\n",
    "ax.yaxis.set_major_formatter(mtick.PercentFormatter())\n",
    "plt.title('Percentage of Null values in variables', fontsize=15)\n",
    "plt.xlabel('Variables with null valuses', fontsize=15)\n",
    "plt.ylabel('% null', fontsize=15)"
   ]
  },
  {
   "cell_type": "markdown",
   "id": "0749778f",
   "metadata": {},
   "source": [
    "We drop size because it has 70% of null values"
   ]
  },
  {
   "cell_type": "markdown",
   "id": "44e825f2",
   "metadata": {},
   "source": [
    "## droping columns"
   ]
  },
  {
   "cell_type": "markdown",
   "id": "5175c4ca",
   "metadata": {},
   "source": [
    "**We are going to drop:**\n",
    "    \n",
    "1- year after calculating the age.\n",
    "\n",
    "2- posting_date because it has the same value in the most of the cells (it is not useful).\n",
    "\n",
    "3- size because it has more that 70% of null values.\n",
    "\n",
    "4- lat and long because thay do not give any information. \n"
   ]
  },
  {
   "cell_type": "code",
   "execution_count": null,
   "id": "1ede38ac",
   "metadata": {},
   "outputs": [],
   "source": [
    "train.drop(['year','size','lat','long','posting_date'], axis=1, inplace=True)\n",
    "test.drop(['year','size','lat','long','posting_date'], axis=1, inplace=True)"
   ]
  },
  {
   "cell_type": "code",
   "execution_count": null,
   "id": "5a8f21d8",
   "metadata": {},
   "outputs": [],
   "source": [
    "train.head(1)"
   ]
  },
  {
   "cell_type": "markdown",
   "id": "e0966b81",
   "metadata": {},
   "source": [
    "## condition"
   ]
  },
  {
   "cell_type": "code",
   "execution_count": null,
   "id": "56fb48ac",
   "metadata": {},
   "outputs": [],
   "source": [
    "train.condition.value_counts()"
   ]
  },
  {
   "cell_type": "code",
   "execution_count": null,
   "id": "9c204d92",
   "metadata": {},
   "outputs": [],
   "source": [
    "test.condition.value_counts()"
   ]
  },
  {
   "cell_type": "code",
   "execution_count": null,
   "id": "d1d30f9a",
   "metadata": {},
   "outputs": [],
   "source": [
    "plt.figure(figsize=(8,5))\n",
    "sns.countplot(x=train.condition)\n",
    "plt.xlabel(\"Condition\")\n",
    "plt.ylabel(\"Count\")\n",
    "plt.title(\"Train Condition frequency\")\n",
    "plt.xticks(rotation=90)\n",
    "plt.show"
   ]
  },
  {
   "cell_type": "code",
   "execution_count": null,
   "id": "f388ae57",
   "metadata": {},
   "outputs": [],
   "source": [
    "plt.figure(figsize=(8,5))\n",
    "sns.countplot(x=test.condition)\n",
    "plt.xlabel(\"Condition\")\n",
    "plt.ylabel(\"Count\")\n",
    "plt.title(\"Test Condition frequency\")\n",
    "plt.xticks(rotation=90)\n",
    "plt.show"
   ]
  },
  {
   "cell_type": "code",
   "execution_count": null,
   "id": "b90868f1",
   "metadata": {},
   "outputs": [],
   "source": [
    "train.condition.isnull().sum(), test.condition.isnull().sum()"
   ]
  },
  {
   "cell_type": "code",
   "execution_count": null,
   "id": "114c2902",
   "metadata": {},
   "outputs": [],
   "source": [
    "train[[\"condition\", \"age\"]].groupby(['condition'], as_index=False).mean().sort_values(by='age', ascending=False)"
   ]
  },
  {
   "cell_type": "code",
   "execution_count": null,
   "id": "169c0a39",
   "metadata": {},
   "outputs": [],
   "source": [
    "condition=train.loc[:,[\"condition\",\"age\"]]\n",
    "\n",
    "x=condition[\"condition\"]\n",
    "y=condition[\"age\"].groupby(x).mean()\n",
    "y.plot.bar(title=\"Condition related to age\",\n",
    "           grid=False, color=['#C94845', '#4958B5', '#49D845', '#777777']).set(xlabel=\"condition\",ylabel=\"Mean\")"
   ]
  },
  {
   "cell_type": "code",
   "execution_count": null,
   "id": "5a3fa862",
   "metadata": {},
   "outputs": [],
   "source": [
    "train[[\"condition\", \"odometer\"]].groupby(['condition'], as_index=False).mean().sort_values(by='odometer', ascending=False)"
   ]
  },
  {
   "cell_type": "code",
   "execution_count": null,
   "id": "613b8e57",
   "metadata": {},
   "outputs": [],
   "source": [
    "condition=train.loc[:,[\"condition\",\"odometer\"]]\n",
    "\n",
    "x=train[\"condition\"]\n",
    "y=train[\"odometer\"].groupby(x).mean()\n",
    "y.plot.bar(title=\"Condition related to odometer\",\n",
    "           grid=False, color=['#C94845', '#4958B5', '#49D845', '#777777']).set(xlabel=\"condition\",ylabel=\"Mean\")"
   ]
  },
  {
   "cell_type": "code",
   "execution_count": null,
   "id": "df9c9038",
   "metadata": {},
   "outputs": [],
   "source": [
    "plt.figure(figsize=(8,5))\n",
    "sns.barplot(x=train.condition,y=train.price)\n",
    "plt.xlabel(\"Count\")\n",
    "plt.ylabel(\"condition\")\n",
    "plt.title(\"Train condition frequency\")\n",
    "plt.xticks(rotation=90)\n",
    "plt.show"
   ]
  },
  {
   "cell_type": "markdown",
   "id": "f1205a2a",
   "metadata": {},
   "source": [
    "**We note that the condition of the car is affected by the age and odometer features, the greatest odometer is the selvage car condition and the lowest odometer is the better (new) car condition. and the salvage car is the older than new ones. so we are going to fill the condition refers to the age and odometer features.**\n"
   ]
  },
  {
   "cell_type": "code",
   "execution_count": null,
   "id": "147d8cc2",
   "metadata": {},
   "outputs": [],
   "source": [
    "from sklearn.model_selection import GridSearchCV\n",
    "from sklearn.preprocessing import StandardScaler\n",
    "from sklearn.model_selection import train_test_split\n",
    "from sklearn.neighbors import KNeighborsClassifier\n",
    "from sklearn import metrics"
   ]
  },
  {
   "cell_type": "code",
   "execution_count": null,
   "id": "826c0c5a",
   "metadata": {},
   "outputs": [],
   "source": [
    "# Step 1: Create a new DataFrame with relevant features\n",
    "features = ['age', 'odometer']\n",
    "df_train = train[features + ['condition']]\n",
    "\n",
    "# Step 2: Separate the rows with missing 'Drive' values and complete values\n",
    "df_missing_drive = df_train[df_train['condition'].isnull()]\n",
    "df_complete_drive = df_train.dropna()\n",
    "\n",
    "\n",
    "# Step 3: Train a model (Random Forest Classifier) to predict 'Drive'\n",
    "X = df_complete_drive[features]\n",
    "y = df_complete_drive['condition']\n",
    "\n",
    "X_train, X_test, y_train, y_test = train_test_split(X, y,test_size=0.2)\n",
    "std=StandardScaler()\n",
    "X_train=std.fit_transform(X_train)\n",
    "X_test=std.transform(X_test)\n"
   ]
  },
  {
   "cell_type": "code",
   "execution_count": null,
   "id": "146e32c4",
   "metadata": {},
   "outputs": [],
   "source": [
    "# search grid\n",
    "\n",
    "grid = {\n",
    "   'n_neighbors':[1,2,3,4,5,6,7,8,9,10] \n",
    "}\n",
    "knn  = KNeighborsClassifier()\n",
    "knn_cv = GridSearchCV(knn, grid, cv = 5)\n",
    "knn_cv.fit(X_train,y_train)\n",
    "print(\"Best Parameters:\",knn_cv.best_params_)\n",
    "print(\"Train Score:\",knn_cv.best_score_)"
   ]
  },
  {
   "cell_type": "code",
   "execution_count": null,
   "id": "ce7ad0c0",
   "metadata": {},
   "outputs": [],
   "source": [
    "model = KNeighborsClassifier(n_neighbors=1)\n",
    "model.fit(X, y)\n",
    "\n",
    "# Step 4: Use the trained model to predict the missing 'Drive' values\n",
    "X_missing_drive = df_missing_drive[features]\n",
    "imputed_values = model.predict(X_missing_drive)\n",
    "print(model.score(X, y))\n",
    "\n",
    "# Step 5: Update the 'Drive' column in the 'train' DataFrame with the imputed values\n",
    "train.loc[train['condition'].isnull(), 'condition'] = imputed_values\n",
    "\n"
   ]
  },
  {
   "cell_type": "code",
   "execution_count": null,
   "id": "1d6d03a1",
   "metadata": {},
   "outputs": [],
   "source": [
    "# Step 1: Create a new DataFrame with relevant features\n",
    "features = ['age', 'odometer']\n",
    "df_test = test[features + ['condition']]\n",
    "\n",
    "# Step 2: Separate the rows with missing 'Drive' values and complete values\n",
    "df_missing_drive = df_test[df_test['condition'].isnull()]\n",
    "df_complete_drive = df_test.dropna()\n",
    "\n",
    "# Step 3: Train a model (Random Forest Classifier) to predict 'Drive'\n",
    "X = df_complete_drive[features]\n",
    "y = df_complete_drive['condition']\n",
    "model = KNeighborsClassifier(n_neighbors=1)\n",
    "model.fit(X, y)\n",
    "\n",
    "# Step 4: Use the trained model to predict the missing 'Drive' values\n",
    "X_missing_drive = df_missing_drive[features]\n",
    "imputed_values = model.predict(X_missing_drive)\n",
    "\n",
    "# Step 5: Update the 'Drive' column in the 'train' DataFrame with the imputed values\n",
    "test.loc[test['condition'].isnull(), 'condition'] = imputed_values\n",
    "\n",
    " "
   ]
  },
  {
   "cell_type": "code",
   "execution_count": null,
   "id": "e15eb49d",
   "metadata": {},
   "outputs": [],
   "source": [
    "train.condition.isnull().sum(),test.condition.isnull().sum()"
   ]
  },
  {
   "cell_type": "code",
   "execution_count": null,
   "id": "44d377ee",
   "metadata": {},
   "outputs": [],
   "source": [
    "train.isnull().sum()"
   ]
  },
  {
   "cell_type": "markdown",
   "id": "ff600a48",
   "metadata": {},
   "source": [
    "## title_status"
   ]
  },
  {
   "cell_type": "code",
   "execution_count": null,
   "id": "a9ad2206",
   "metadata": {},
   "outputs": [],
   "source": [
    "train.title_status.value_counts()"
   ]
  },
  {
   "cell_type": "code",
   "execution_count": null,
   "id": "1e1016c5",
   "metadata": {},
   "outputs": [],
   "source": [
    "plt.figure(figsize=(8,5))\n",
    "sns.barplot(y=train.title_status,x=train.price,hue=train.transmission)\n",
    "plt.xlabel(\"Count\")\n",
    "plt.ylabel(\"Title_status\")\n",
    "plt.title(\"Train title_status frequency\")\n",
    "plt.xticks(rotation=90)\n",
    "plt.show"
   ]
  },
  {
   "cell_type": "code",
   "execution_count": null,
   "id": "66bd6d00",
   "metadata": {},
   "outputs": [],
   "source": [
    "plt.figure(figsize=(8,5))\n",
    "sns.countplot(x=train.title_status)\n",
    "plt.xlabel(\"Count\")\n",
    "plt.ylabel(\"Title_status\")\n",
    "plt.title(\"Test title_status frequency\")\n",
    "plt.xticks(rotation=90)\n",
    "plt.show"
   ]
  },
  {
   "cell_type": "code",
   "execution_count": null,
   "id": "71615216",
   "metadata": {},
   "outputs": [],
   "source": [
    "train['title_status'].unique(),test['title_status'].unique()"
   ]
  },
  {
   "cell_type": "code",
   "execution_count": null,
   "id": "5d66d82e",
   "metadata": {},
   "outputs": [],
   "source": [
    "train.title_status.fillna('missing', inplace=True)\n",
    "test.title_status.fillna('missing', inplace=True)\n",
    "\n",
    "train.loc[train['title_status'] != 'clean', 'title_status'] = 'other'\n",
    "test.loc[test['title_status'] != 'clean', 'title_status'] = 'other'"
   ]
  },
  {
   "cell_type": "code",
   "execution_count": null,
   "id": "0115d2fd",
   "metadata": {},
   "outputs": [],
   "source": [
    "train.title_status.value_counts()"
   ]
  },
  {
   "cell_type": "code",
   "execution_count": null,
   "id": "93d01e85",
   "metadata": {},
   "outputs": [],
   "source": [
    "train.title_status.isnull().sum(), test.title_status.isnull().sum()"
   ]
  },
  {
   "cell_type": "code",
   "execution_count": null,
   "id": "bd5a53dc",
   "metadata": {},
   "outputs": [],
   "source": [
    "plt.figure(figsize=(8,5))\n",
    "sns.countplot(x=train.title_status)\n",
    "plt.xlabel(\"Count\")\n",
    "plt.ylabel(\"Title_status\")\n",
    "plt.title(\"Train title_status frequency\")\n",
    "plt.xticks(rotation=90)\n",
    "plt.show"
   ]
  },
  {
   "cell_type": "code",
   "execution_count": null,
   "id": "e794ec34",
   "metadata": {},
   "outputs": [],
   "source": [
    "plt.figure(figsize=(8,5))\n",
    "sns.countplot(x=test.title_status)\n",
    "plt.xlabel(\"Count\")\n",
    "plt.ylabel(\"Title_status\")\n",
    "plt.title(\"Train title_status frequency\")\n",
    "plt.xticks(rotation=90)\n",
    "plt.show"
   ]
  },
  {
   "cell_type": "markdown",
   "id": "a029eb96",
   "metadata": {},
   "source": [
    "## fuel"
   ]
  },
  {
   "cell_type": "code",
   "execution_count": null,
   "id": "c44f55a5",
   "metadata": {},
   "outputs": [],
   "source": [
    "train.fuel.isnull().sum(),test.fuel.isnull().sum()"
   ]
  },
  {
   "cell_type": "code",
   "execution_count": null,
   "id": "15cb3d98",
   "metadata": {},
   "outputs": [],
   "source": [
    "train.fuel.value_counts()"
   ]
  },
  {
   "cell_type": "code",
   "execution_count": null,
   "id": "3fb87a74",
   "metadata": {},
   "outputs": [],
   "source": [
    "plt.figure(figsize=(8,5))\n",
    "sns.countplot(x=train.fuel)\n",
    "plt.xlabel(\"Count\")\n",
    "plt.ylabel(\"Fuel\")\n",
    "plt.title(\"Train fuel frequency\")\n",
    "plt.xticks(rotation=90)\n",
    "plt.show"
   ]
  },
  {
   "cell_type": "code",
   "execution_count": null,
   "id": "f47f7df6",
   "metadata": {},
   "outputs": [],
   "source": [
    "train.fuel.unique()"
   ]
  },
  {
   "cell_type": "code",
   "execution_count": null,
   "id": "bae1ef7f",
   "metadata": {},
   "outputs": [],
   "source": [
    "plt.figure(figsize=(8,5))\n",
    "sns.barplot(x=train.manufacturer,y=train.price,hue=train.fuel)\n",
    "plt.xlabel(\"fuel\")\n",
    "plt.ylabel(\"count\")\n",
    "plt.title(\"affecting the manufacturer on the fuel\")\n",
    "plt.xticks(rotation=90)\n",
    "plt.show"
   ]
  },
  {
   "cell_type": "code",
   "execution_count": 23,
   "id": "d6fb5f8a",
   "metadata": {},
   "outputs": [],
   "source": [
    "train.fuel.fillna('other', inplace=True)\n",
    "test.fuel.fillna('other', inplace=True)\n",
    "\n",
    "#train.loc[train['fuel'] != 'gas', 'fuel'] = 'other'\n",
    "#test.loc[test['fuel'] != 'gas', 'fuel'] = 'other'"
   ]
  },
  {
   "cell_type": "code",
   "execution_count": null,
   "id": "217f6788",
   "metadata": {},
   "outputs": [],
   "source": [
    "train.fuel.value_counts()"
   ]
  },
  {
   "cell_type": "code",
   "execution_count": null,
   "id": "ef54e3d9",
   "metadata": {},
   "outputs": [],
   "source": [
    "train.fuel.isnull().sum() ,test.fuel.isnull().sum()"
   ]
  },
  {
   "cell_type": "code",
   "execution_count": null,
   "id": "906f77ca",
   "metadata": {},
   "outputs": [],
   "source": []
  },
  {
   "cell_type": "code",
   "execution_count": null,
   "id": "230026db",
   "metadata": {},
   "outputs": [],
   "source": [
    "train.isnull().sum()"
   ]
  },
  {
   "cell_type": "markdown",
   "id": "611e2cf1",
   "metadata": {},
   "source": [
    "## paint color"
   ]
  },
  {
   "cell_type": "code",
   "execution_count": null,
   "id": "9cad6223",
   "metadata": {},
   "outputs": [],
   "source": [
    "train.paint_color.value_counts()"
   ]
  },
  {
   "cell_type": "code",
   "execution_count": null,
   "id": "b8c2226f",
   "metadata": {},
   "outputs": [],
   "source": [
    "plt.figure(figsize=(8,5))\n",
    "sns.countplot(x=train.paint_color)\n",
    "plt.xlabel(\"Count\")\n",
    "plt.ylabel(\"paint_color\")\n",
    "plt.title(\"Train paint_color frequency\")\n",
    "plt.xticks(rotation=90)\n",
    "plt.show"
   ]
  },
  {
   "cell_type": "code",
   "execution_count": null,
   "id": "03bc0033",
   "metadata": {},
   "outputs": [],
   "source": [
    "plt.figure(figsize=(8,5))\n",
    "sns.barplot(x=train.paint_color,y=train.price)\n",
    "plt.xlabel(\"price\")\n",
    "plt.ylabel(\"paint_color\")\n",
    "plt.title(\"affecting the color paint on the price\")\n",
    "plt.xticks(rotation=90)\n",
    "plt.show"
   ]
  },
  {
   "cell_type": "code",
   "execution_count": null,
   "id": "bc4177d4",
   "metadata": {},
   "outputs": [],
   "source": [
    "train.drop('paint_color',axis=1, inplace=True)\n"
   ]
  },
  {
   "cell_type": "code",
   "execution_count": null,
   "id": "c5ac06c7",
   "metadata": {},
   "outputs": [],
   "source": [
    "test.drop('paint_color',axis=1, inplace=True)"
   ]
  },
  {
   "cell_type": "markdown",
   "id": "e16cfc03",
   "metadata": {},
   "source": [
    "## drive"
   ]
  },
  {
   "cell_type": "code",
   "execution_count": null,
   "id": "5ab7ada9",
   "metadata": {},
   "outputs": [],
   "source": [
    "train.drive.value_counts()"
   ]
  },
  {
   "cell_type": "code",
   "execution_count": null,
   "id": "15731bda",
   "metadata": {},
   "outputs": [],
   "source": [
    "plt.figure(figsize=(8,5))\n",
    "sns.countplot(x=train.drive)\n",
    "plt.xlabel(\"Count\")\n",
    "plt.ylabel(\"drive\")\n",
    "plt.title(\"Train drive frequency\")\n",
    "plt.xticks(rotation=90)\n",
    "plt.show"
   ]
  },
  {
   "cell_type": "code",
   "execution_count": null,
   "id": "77f19b6a",
   "metadata": {},
   "outputs": [],
   "source": [
    "plt.figure(figsize=(8,2))\n",
    "sns.barplot(x=train.drive,y=train.price, hue=train.fuel)\n",
    "plt.xlabel(\"drive\")\n",
    "plt.ylabel(\"price\")\n",
    "plt.title(\"effecting the fuel in drive\")\n",
    "plt.xticks(rotation=90)\n",
    "plt.show"
   ]
  },
  {
   "cell_type": "code",
   "execution_count": null,
   "id": "d5862f3b",
   "metadata": {},
   "outputs": [],
   "source": [
    "plt.figure(figsize=(8,5))\n",
    "sns.barplot(y=train.drive,x=train.price,hue=train.condition)\n",
    "plt.xlabel(\"drive\")\n",
    "plt.ylabel(\"price\")\n",
    "plt.title(\"effecting condition on drive\")\n",
    "plt.xticks(rotation=90)\n",
    "plt.show"
   ]
  },
  {
   "cell_type": "code",
   "execution_count": null,
   "id": "52d22afd",
   "metadata": {},
   "outputs": [],
   "source": [
    "plt.figure(figsize=(8,10))\n",
    "sns.barplot(y=train.manufacturer,x=train.price,hue=train.drive)\n",
    "plt.xlabel(\"price\")\n",
    "plt.ylabel(\"manufacturer\")\n",
    "plt.title(\"effecting manufacturer on drive\")\n",
    "plt.xticks(rotation=90)\n",
    "\n",
    "plt.xlim(0, 0.2e6)\n",
    "plt.show"
   ]
  },
  {
   "cell_type": "code",
   "execution_count": 8,
   "id": "79301e46",
   "metadata": {},
   "outputs": [],
   "source": [
    "from sklearn.preprocessing import LabelEncoder\n",
    "le = LabelEncoder()\n",
    "\n",
    "var_mod = ['drive']\n",
    "for i in var_mod:\n",
    "    train[i] = le.fit_transform(train[i])"
   ]
  },
  {
   "cell_type": "code",
   "execution_count": 24,
   "id": "3aa58ff7",
   "metadata": {},
   "outputs": [
    {
     "data": {
      "text/plain": [
       "[Text(0.5, 0, 'condition'), Text(0, 0.5, 'Mean of drive')]"
      ]
     },
     "execution_count": 24,
     "metadata": {},
     "output_type": "execute_result"
    },
    {
     "data": {
      "image/png": "[encoded data removed]",
      "text/plain": [
       "<Figure size 1000x500 with 1 Axes>"
      ]
     },
     "metadata": {},
     "output_type": "display_data"
    }
   ],
   "source": [
    "condition=train.loc[:,[\"fuel\",\"drive\"]]\n",
    "plt.figure(figsize=(10,5))\n",
    "x=condition[\"fuel\"]\n",
    "y=condition[\"drive\"].groupby(x).mean()\n",
    "y.plot.bar(title=\"drive related to fuel\",\n",
    "           grid=False, color=['#C94845', '#4958B5', '#49D845', '#777777']).set(xlabel=\"condition\",ylabel=\"Mean of drive\")"
   ]
  },
  {
   "cell_type": "code",
   "execution_count": null,
   "id": "732ee0b9",
   "metadata": {},
   "outputs": [],
   "source": [
    "from sklearn.preprocessing import LabelEncoder\n",
    "le = LabelEncoder()\n",
    "\n",
    "var_mod = ['manufacturer', 'fuel']\n",
    "for i in var_mod:\n",
    "    train[i] = le.fit_transform(train[i])\n"
   ]
  },
  {
   "cell_type": "code",
   "execution_count": null,
   "id": "1fb4db8f",
   "metadata": {},
   "outputs": [],
   "source": [
    "features = ['manufacturer', 'fuel']\n",
    "df_train = train[features + ['drive']]\n",
    "\n",
    "df_missing_drive = df_train[df_train['drive'].isnull()]\n",
    "df_complete_drive = df_train.dropna()\n",
    "\n",
    "X = df_complete_drive[features]\n",
    "y = df_complete_drive['drive']\n",
    "\n",
    "X_train, X_test, y_train, y_test = train_test_split(X, y,test_size=0.2)\n",
    "std=StandardScaler()\n",
    "X_train=std.fit_transform(X_train)\n",
    "X_test=std.transform(X_test)\n"
   ]
  },
  {
   "cell_type": "code",
   "execution_count": null,
   "id": "6876fa26",
   "metadata": {},
   "outputs": [],
   "source": [
    "# search grid\n",
    "\n",
    "grid = {\n",
    "   'n_neighbors':[1,2,5,10,50,100] \n",
    "}\n",
    "knn  = KNeighborsClassifier()\n",
    "knn_cv = GridSearchCV(knn, grid, cv = 2)\n",
    "knn_cv.fit(X_train,y_train)\n",
    "print(\"Best Parameters:\",knn_cv.best_params_)\n",
    "print(\"Train Score:\",knn_cv.best_score_)"
   ]
  },
  {
   "cell_type": "code",
   "execution_count": null,
   "id": "6a7ae753",
   "metadata": {},
   "outputs": [],
   "source": [
    "model = KNeighborsClassifier(n_neighbors=100)\n",
    "model.fit(X, y)\n",
    "\n",
    "X_missing_drive = df_missing_drive[features]\n",
    "imputed_values = model.predict(X_missing_drive)\n",
    "\n",
    "train.loc[train['drive'].isnull(), 'drive'] = imputed_values\n",
    "\n"
   ]
  },
  {
   "cell_type": "code",
   "execution_count": null,
   "id": "c200ed1f",
   "metadata": {},
   "outputs": [],
   "source": [
    "le = LabelEncoder()\n",
    "\n",
    "var_mod = ['manufacturer', 'fuel']\n",
    "for i in var_mod:\n",
    "    test[i] = le.fit_transform(test[i])"
   ]
  },
  {
   "cell_type": "code",
   "execution_count": null,
   "id": "2bcd5fb3",
   "metadata": {},
   "outputs": [],
   "source": [
    "# Step 1: Create a new DataFrame with relevant features\n",
    "features = ['manufacturer', 'fuel']\n",
    "df_test = test[features + ['drive']]\n",
    "\n",
    "# Step 2: Separate the rows with missing 'Drive' values and complete values\n",
    "df_missing_drive = df_test[df_test['drive'].isnull()]\n",
    "df_complete_drive = df_test.dropna()\n",
    "\n",
    "# Step 3: Train a model (Random Forest Classifier) to predict 'Drive'\n",
    "X = df_complete_drive[features]\n",
    "y = df_complete_drive['drive']\n",
    "model = KNeighborsClassifier()\n",
    "model.fit(X, y)\n",
    "\n",
    "# Step 4: Use the trained model to predict the missing 'Drive' values\n",
    "X_missing_drive = df_missing_drive[features]\n",
    "imputed_values = model.predict(X_missing_drive)\n",
    "\n",
    "# Step 5: Update the 'Drive' column in the 'train' DataFrame with the imputed values\n",
    "test.loc[test['drive'].isnull(), 'drive'] = imputed_values"
   ]
  },
  {
   "cell_type": "code",
   "execution_count": null,
   "id": "a4b8766a",
   "metadata": {},
   "outputs": [],
   "source": [
    "train.isnull().sum()"
   ]
  },
  {
   "cell_type": "markdown",
   "id": "00c37a9f",
   "metadata": {},
   "source": [
    "## cylinders"
   ]
  },
  {
   "cell_type": "code",
   "execution_count": null,
   "id": "8ef198b0",
   "metadata": {},
   "outputs": [],
   "source": [
    "train.cylinders.value_counts()"
   ]
  },
  {
   "cell_type": "code",
   "execution_count": null,
   "id": "2677d0a6",
   "metadata": {},
   "outputs": [],
   "source": [
    "plt.figure(figsize=(8,5))\n",
    "sns.countplot(x=train.cylinders)\n",
    "plt.xlabel(\"Count\")\n",
    "plt.ylabel(\"cylinders\")\n",
    "plt.title(\"Train cylinders frequency\")\n",
    "plt.xticks(rotation=90)\n",
    "plt.show"
   ]
  },
  {
   "cell_type": "code",
   "execution_count": null,
   "id": "9ff17ffb",
   "metadata": {},
   "outputs": [],
   "source": [
    "train.cylinders.fillna('other', inplace=True)\n",
    "test.cylinders.fillna('other', inplace=True)\n",
    "\n",
    "train.loc[((train['cylinders'] == '10 cylinders')|(train['cylinders'] == '3 cylinders')|(train['cylinders'] == '12 cylinders')|(train['cylinders'] == '5 cylinders')), 'cylinders'] = 'other'\n",
    "test.loc[((test['cylinders'] == '10 cylinders')|(test['cylinders'] == '3 cylinders')|(test['cylinders'] == '12 cylinders')|(test['cylinders'] == '5 cylinders')), 'cylinders'] = 'other'"
   ]
  },
  {
   "cell_type": "code",
   "execution_count": null,
   "id": "53281aa8",
   "metadata": {},
   "outputs": [],
   "source": [
    "plt.figure(figsize=(10,3))\n",
    "sns.countplot(x=train.cylinders)\n",
    "plt.xlabel(\"cylinders\")\n",
    "plt.ylabel(\"Count\")\n",
    "plt.title(\"Train cylinders frequency\")\n",
    "plt.xticks(rotation=90)\n",
    "plt.show"
   ]
  },
  {
   "cell_type": "markdown",
   "id": "1f6cfe46",
   "metadata": {},
   "source": [
    "## type"
   ]
  },
  {
   "cell_type": "code",
   "execution_count": null,
   "id": "59e42f8b",
   "metadata": {},
   "outputs": [],
   "source": [
    "train.type.value_counts()"
   ]
  },
  {
   "cell_type": "code",
   "execution_count": null,
   "id": "54104b61",
   "metadata": {},
   "outputs": [],
   "source": [
    "plt.figure(figsize=(8,5))\n",
    "sns.countplot(x=train.type)\n",
    "plt.xlabel(\"Count\")\n",
    "plt.ylabel(\"type\")\n",
    "plt.title(\"Train type frequency\")\n",
    "plt.xticks(rotation=90)\n",
    "plt.show"
   ]
  },
  {
   "cell_type": "code",
   "execution_count": null,
   "id": "b166bd92",
   "metadata": {},
   "outputs": [],
   "source": [
    "plt.figure(figsize=(8,5))\n",
    "sns.barplot(x=train.type,y=train.price)\n",
    "plt.xlabel(\"Count\")\n",
    "plt.ylabel(\"type\")\n",
    "plt.title(\"Train type frequency\")\n",
    "plt.xticks(rotation=90)\n",
    "plt.show"
   ]
  },
  {
   "cell_type": "code",
   "execution_count": null,
   "id": "7ddc129c",
   "metadata": {},
   "outputs": [],
   "source": [
    "plt.figure(figsize=(8,10))\n",
    "sns.barplot(y=train.type,x=train.price,hue=train.cylinders)\n",
    "plt.xlabel(\"price\")\n",
    "plt.ylabel(\"type\")\n",
    "plt.title(\"affect the cylinders on the type\")\n",
    "plt.xticks(rotation=90)\n",
    "plt.show"
   ]
  },
  {
   "cell_type": "code",
   "execution_count": null,
   "id": "b2897116",
   "metadata": {},
   "outputs": [],
   "source": [
    "plt.figure(figsize=(15,20))\n",
    "sns.barplot(y=train.type,x=train.price,hue=train.drive)\n",
    "plt.xlabel(\"price\")\n",
    "plt.ylabel(\"type\")\n",
    "plt.title(\"affecting drive on the price\")\n",
    "plt.xticks(rotation=90)\n",
    "plt.show"
   ]
  },
  {
   "cell_type": "code",
   "execution_count": null,
   "id": "b0d90cae",
   "metadata": {},
   "outputs": [],
   "source": [
    "from sklearn.preprocessing import LabelEncoder\n",
    "le = LabelEncoder()\n",
    "\n",
    "var_mod = ['cylinders', 'drive']\n",
    "for i in var_mod:\n",
    "    train[i] = le.fit_transform(train[i])\n"
   ]
  },
  {
   "cell_type": "code",
   "execution_count": null,
   "id": "a06e7876",
   "metadata": {},
   "outputs": [],
   "source": [
    "features = [ 'drive','cylinders']\n",
    "df_train = train[features + ['type']]\n",
    "\n",
    "df_missing_cylinders = df_train[df_train['type'].isnull()]\n",
    "df_complete_cylinders = df_train.dropna()\n",
    "\n",
    "\n",
    "X = df_complete_cylinders[features]\n",
    "y = df_complete_cylinders['type']\n",
    "\n",
    "\n",
    "X_train, X_test, y_train, y_test = train_test_split(X, y,test_size=0.2)\n",
    "std=StandardScaler()\n",
    "X_train=std.fit_transform(X_train)\n",
    "X_test=std.transform(X_test)"
   ]
  },
  {
   "cell_type": "code",
   "execution_count": null,
   "id": "5c87d81d",
   "metadata": {},
   "outputs": [],
   "source": [
    "df_train"
   ]
  },
  {
   "cell_type": "code",
   "execution_count": null,
   "id": "4a72f383",
   "metadata": {},
   "outputs": [],
   "source": [
    "# search grid\n",
    "\n",
    "grid = {\n",
    "   'n_neighbors':[1,5,10,20,50,100,500] \n",
    "}\n",
    "knn  = KNeighborsClassifier()\n",
    "knn_cv = GridSearchCV(knn, grid, cv = 5)\n",
    "knn_cv.fit(X_train,y_train)\n",
    "print(\"Best Parameters:\",knn_cv.best_params_)\n",
    "print(\"Train Score:\",knn_cv.best_score_)"
   ]
  },
  {
   "cell_type": "code",
   "execution_count": null,
   "id": "5c348abb",
   "metadata": {},
   "outputs": [],
   "source": [
    "imputed_values.shape,train.type.isnull().sum()"
   ]
  },
  {
   "cell_type": "code",
   "execution_count": null,
   "id": "d8a6d2a6",
   "metadata": {},
   "outputs": [],
   "source": [
    "\n",
    "model = KNeighborsClassifier(n_neighbors=500)\n",
    "model.fit(X, y)\n",
    "print(model.score(X,y))\n",
    "\n",
    "X_missing_cylinders = df_missing_cylinders[features]\n",
    "imputed_values = model.predict(X_missing_cylinders)\n",
    "\n",
    "\n",
    "\n"
   ]
  },
  {
   "cell_type": "code",
   "execution_count": null,
   "id": "1e4bd912",
   "metadata": {},
   "outputs": [],
   "source": [
    "train.loc[train['type'].isnull(), 'type'] = imputed_values"
   ]
  },
  {
   "cell_type": "code",
   "execution_count": null,
   "id": "c43af518",
   "metadata": {},
   "outputs": [],
   "source": [
    "le = LabelEncoder()\n",
    "\n",
    "var_mod = ['cylinders', 'drive']\n",
    "for i in var_mod:\n",
    "    test[i] = le.fit_transform(test[i])\n",
    "    \n"
   ]
  },
  {
   "cell_type": "code",
   "execution_count": null,
   "id": "8fd96b1a",
   "metadata": {},
   "outputs": [],
   "source": [
    "features = ['cylinders', 'drive']\n",
    "df_test = test[features + ['type']]\n",
    "\n",
    "\n",
    "df_missing_cylinders = df_test[df_test['type'].isnull()]\n",
    "df_complete_cylinders = df_test.dropna()\n",
    "\n",
    "X = df_complete_cylinders[features]\n",
    "y = df_complete_cylinders['type']\n",
    "\n",
    "model = KNeighborsClassifier(n_neighbors=500)\n",
    "model.fit(X, y)\n",
    "\n",
    "X_missing_cylinders = df_missing_cylinders[features]\n",
    "imputed_values = model.predict(X_missing_cylinders)\n",
    "\n",
    "\n",
    "test.loc[test['type'].isnull(), 'type'] = imputed_values"
   ]
  },
  {
   "cell_type": "code",
   "execution_count": null,
   "id": "d156dafa",
   "metadata": {},
   "outputs": [],
   "source": [
    "train.to_csv(\"C:\\\\Users\\\\GTS\\\\Desktop\\\\AI Fatima\\\\Competitions\\\\Used Car Price Prediction\\\\modified\\\\Tmodified.csv\",index=False)\n",
    "test.to_csv(\"C:\\\\Users\\\\GTS\\\\Desktop\\\\AI Fatima\\\\Competitions\\\\Used Car Price Prediction\\\\modified\\\\Smodified.csv\",index=False)"
   ]
  },
  {
   "cell_type": "code",
   "execution_count": null,
   "id": "9fade151",
   "metadata": {},
   "outputs": [],
   "source": [
    "train"
   ]
  },
  {
   "cell_type": "code",
   "execution_count": null,
   "id": "69ad7d75",
   "metadata": {},
   "outputs": [],
   "source": [
    "train.price.isnull().sum()"
   ]
  },
  {
   "cell_type": "code",
   "execution_count": null,
   "id": "e6caacb3",
   "metadata": {},
   "outputs": [],
   "source": []
  }
 ],
 "metadata": {
  "kernelspec": {
   "display_name": "Python 3 (ipykernel)",
   "language": "python",
   "name": "python3"
  },
  "language_info": {
   "codemirror_mode": {
    "name": "ipython",
    "version": 3
   },
   "file_extension": ".py",
   "mimetype": "text/x-python",
   "name": "python",
   "nbconvert_exporter": "python",
   "pygments_lexer": "ipython3",
   "version": "3.9.13"
  }
 },
 "nbformat": 4,
 "nbformat_minor": 5
}
